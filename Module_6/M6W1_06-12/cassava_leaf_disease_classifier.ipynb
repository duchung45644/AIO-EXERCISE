{
 "cells": [
  {
   "cell_type": "markdown",
   "metadata": {},
   "source": [
    "## Download the dataset"
   ]
  },
  {
   "cell_type": "code",
   "execution_count": 1,
   "metadata": {},
   "outputs": [],
   "source": [
    "# !wget --no-check-certificate https://storage.googleapis.com/emcassavadata/cassavaleafdata.zip -O /content/cassavaleafdata.zip\n",
    "# !unzip /content/cassavaleafdata.zip"
   ]
  },
  {
   "cell_type": "code",
   "execution_count": 2,
   "metadata": {},
   "outputs": [],
   "source": [
    "# Import libs\n",
    "import os\n",
    "import random\n",
    "import numpy as np\n",
    "\n",
    "import time\n",
    "import torch\n",
    "import torch.nn as nn\n",
    "import torch.optim as optim\n",
    "import torch.nn.functional as F\n",
    "import torch.utils.data as data\n",
    "\n",
    "import torchvision.transforms as transforms\n",
    "import torchvision.datasets as datasets\n",
    "\n",
    "from torchsummary import summary\n",
    "\n",
    "import matplotlib.pyplot as plt\n",
    "from PIL import Image"
   ]
  },
  {
   "cell_type": "markdown",
   "metadata": {},
   "source": [
    "## Preprocess the dataset"
   ]
  },
  {
   "cell_type": "code",
   "execution_count": 3,
   "metadata": {},
   "outputs": [
    {
     "name": "stdout",
     "output_type": "stream",
     "text": [
      "Thư mục tồn tại: ./data/cassavaleafdata/validation\n"
     ]
    }
   ],
   "source": [
    "\n",
    "test_path = \"./data/cassavaleafdata/validation\"\n",
    "\n",
    "# Kiểm tra thư mục có tồn tại không\n",
    "if os.path.exists(test_path) and os.path.isdir(test_path):\n",
    "    print(f\"Thư mục tồn tại: {test_path}\")\n",
    "else:\n",
    "    print(f\"Thư mục không tồn tại hoặc không phải là thư mục: {test_path}\")"
   ]
  },
  {
   "cell_type": "code",
   "execution_count": 8,
   "metadata": {},
   "outputs": [],
   "source": [
    "data_paths = {\n",
    "'train': './data/cassavaleafdata/train',\n",
    "'valid': './data/cassavaleafdata/validation',\n",
    "'test': './data/cassavaleafdata/test'\n",
    "}\n",
    "\n",
    "# load image from path\n",
    "def loader(path):\n",
    "    return Image.open(path)\n",
    "\n",
    "img_size = 150\n",
    "train_transforms = transforms.Compose ([\n",
    "    transforms.Resize ((150 , 150)),\n",
    "    transforms.ToTensor (),\n",
    "])\n",
    "\n",
    "train_data = datasets.ImageFolder(\n",
    "    root=data_paths['train'],\n",
    "    loader=loader ,\n",
    "    transform=train_transforms\n",
    ")\n",
    "valid_data = datasets.ImageFolder(\n",
    "    root=data_paths['valid'],\n",
    "    transform=train_transforms\n",
    ")\n",
    "test_data = datasets.ImageFolder(\n",
    "    root=data_paths['test'],\n",
    "    transform=train_transforms\n",
    ")\n",
    "\n",
    "BATCH_SIZE = 256\n",
    "train_dataloader = data.DataLoader(train_data, batch_size=BATCH_SIZE, shuffle=True)\n",
    "valid_dataloader = data.DataLoader(valid_data, batch_size=BATCH_SIZE, shuffle=False)\n",
    "test_dataloader = data.DataLoader(test_data, batch_size=BATCH_SIZE, shuffle=False)"
   ]
  },
  {
   "cell_type": "markdown",
   "metadata": {},
   "source": [
    "## 3. Build the model"
   ]
  },
  {
   "cell_type": "code",
   "execution_count": 5,
   "metadata": {},
   "outputs": [],
   "source": [
    "class LeNetClassifier(nn.Module):\n",
    "    def __init__(self , num_classes):\n",
    "        super().__init__ ()\n",
    "        self.conv1 = nn.Conv2d(in_channels =3, out_channels =6, kernel_size =5, padding='same')\n",
    "        self.avgpool1 = nn.AvgPool2d(kernel_size =2)\n",
    "        self.conv2 = nn.Conv2d(in_channels =6, out_channels =16, kernel_size =5)\n",
    "        self.avgpool2 = nn.AvgPool2d(kernel_size =2)\n",
    "        self.flatten = nn.Flatten ()\n",
    "        self.fc_1 = nn.Linear (16 * 35 * 35, 120)\n",
    "        self.fc_2 = nn.Linear (120, 84)\n",
    "        self.fc_3 = nn.Linear (84, num_classes)\n",
    "\n",
    "    def forward(self , inputs):\n",
    "        outputs = self.conv1(inputs)\n",
    "        outputs = self.avgpool1(outputs)\n",
    "        outputs = F.relu(outputs)\n",
    "        outputs = self.conv2(outputs)\n",
    "        outputs = self.avgpool2(outputs)\n",
    "        outputs = F.relu(outputs)\n",
    "        outputs = self.flatten(outputs)\n",
    "        outputs = self.fc_1(outputs)\n",
    "        outputs = self.fc_2(outputs)\n",
    "        outputs = self.fc_3(outputs)\n",
    "        return outputs"
   ]
  },
  {
   "cell_type": "markdown",
   "metadata": {},
   "source": [
    "## 4. Train the model"
   ]
  },
  {
   "cell_type": "code",
   "execution_count": 6,
   "metadata": {},
   "outputs": [],
   "source": [
    "def train(model , optimizer , criterion , train_dataloader , device , epoch=0, log_interval=50):\n",
    "    model.train()\n",
    "    total_acc , total_count = 0, 0\n",
    "    losses = []\n",
    "    start_time = time.time()\n",
    "\n",
    "    for idx , (inputs , labels) in enumerate(train_dataloader):\n",
    "        inputs = inputs.to(device)\n",
    "        labels = labels.to(device)\n",
    "\n",
    "        optimizer.zero_grad ()\n",
    "\n",
    "        predictions = model(inputs)\n",
    "\n",
    "        # compute loss\n",
    "        loss = criterion(predictions , labels)\n",
    "        losses.append(loss.item())\n",
    "\n",
    "        # backward\n",
    "        loss.backward ()\n",
    "        torch.nn.utils.clip_grad_norm_(model.parameters (), 0.1)\n",
    "        optimizer.step()\n",
    "        total_acc += (predictions.argmax (1) == labels).sum().item()\n",
    "        total_count += labels.size (0)\n",
    "        if idx % log_interval == 0 and idx > 0:\n",
    "            elapsed = time.time() - start_time\n",
    "            print(\n",
    "                f\"| epoch {epoch:3d} | {idx:5d}/{len(train_dataloader):5d} batches \"\n",
    "                f\"| accuracy {total_acc / total_count:8.3f}\"\n",
    "            )\n",
    "            total_acc , total_count = 0, 0\n",
    "            start_time = time.time()\n",
    "\n",
    "    epoch_acc = total_acc / total_count\n",
    "    epoch_loss = sum(losses) / len(losses)\n",
    "    return epoch_acc , epoch_loss\n",
    "\n",
    "# Evaluation function\n",
    "def evaluate(model , criterion , valid_dataloader):\n",
    "    model.eval()\n",
    "    total_acc , total_count = 0, 0\n",
    "    losses = []\n",
    "\n",
    "    with torch.no_grad ():\n",
    "        for idx , (inputs , labels) in enumerate(valid_dataloader):\n",
    "            inputs = inputs.to(device)\n",
    "            labels = labels.to(device)\n",
    "\n",
    "            predictions = model(inputs)\n",
    "\n",
    "            loss = criterion(predictions , labels)\n",
    "            losses.append(loss.item())\n",
    "\n",
    "            total_acc += (predictions.argmax (1) == labels).sum().item()\n",
    "            total_count += labels.size (0)\n",
    "\n",
    "    epoch_acc = total_acc / total_count\n",
    "    epoch_loss = sum(losses) / len(losses)\n",
    "    return epoch_acc , epoch_loss"
   ]
  },
  {
   "cell_type": "code",
   "execution_count": 9,
   "metadata": {},
   "outputs": [
    {
     "name": "stdout",
     "output_type": "stream",
     "text": [
      "| epoch   1 |    10/   23 batches | accuracy    0.472\n",
      "| epoch   1 |    20/   23 batches | accuracy    0.468\n",
      "-----------------------------------------------------------\n",
      "| End of epoch   1 | Time: 266.02s | Train Accuracy    0.471 | Train Loss   1.382 | Valid Accuracy    0.470 | Valid Loss    1.448 \n",
      "-----------------------------------------------------------\n",
      "| epoch   2 |    10/   23 batches | accuracy    0.466\n",
      "| epoch   2 |    20/   23 batches | accuracy    0.479\n",
      "-----------------------------------------------------------\n",
      "| End of epoch   2 | Time: 100.58s | Train Accuracy    0.468 | Train Loss   1.323 | Valid Accuracy    0.472 | Valid Loss    1.442 \n",
      "-----------------------------------------------------------\n",
      "| epoch   3 |    10/   23 batches | accuracy    0.482\n",
      "| epoch   3 |    20/   23 batches | accuracy    0.521\n",
      "-----------------------------------------------------------\n",
      "| End of epoch   3 | Time: 107.61s | Train Accuracy    0.471 | Train Loss   1.285 | Valid Accuracy    0.540 | Valid Loss    1.358 \n",
      "-----------------------------------------------------------\n",
      "| epoch   4 |    10/   23 batches | accuracy    0.519\n",
      "| epoch   4 |    20/   23 batches | accuracy    0.511\n",
      "-----------------------------------------------------------\n",
      "| End of epoch   4 | Time: 112.84s | Train Accuracy    0.489 | Train Loss   1.232 | Valid Accuracy    0.540 | Valid Loss    1.343 \n",
      "-----------------------------------------------------------\n",
      "| epoch   5 |    10/   23 batches | accuracy    0.532\n",
      "| epoch   5 |    20/   23 batches | accuracy    0.540\n",
      "-----------------------------------------------------------\n",
      "| End of epoch   5 | Time: 121.48s | Train Accuracy    0.536 | Train Loss   1.201 | Valid Accuracy    0.553 | Valid Loss    1.306 \n",
      "-----------------------------------------------------------\n",
      "| epoch   6 |    10/   23 batches | accuracy    0.545\n",
      "| epoch   6 |    20/   23 batches | accuracy    0.535\n",
      "-----------------------------------------------------------\n",
      "| End of epoch   6 | Time: 103.58s | Train Accuracy    0.554 | Train Loss   1.172 | Valid Accuracy    0.563 | Valid Loss    1.290 \n",
      "-----------------------------------------------------------\n",
      "| epoch   7 |    10/   23 batches | accuracy    0.540\n",
      "| epoch   7 |    20/   23 batches | accuracy    0.548\n",
      "-----------------------------------------------------------\n",
      "| End of epoch   7 | Time: 96.22s | Train Accuracy    0.571 | Train Loss   1.165 | Valid Accuracy    0.574 | Valid Loss    1.287 \n",
      "-----------------------------------------------------------\n",
      "| epoch   8 |    10/   23 batches | accuracy    0.556\n",
      "| epoch   8 |    20/   23 batches | accuracy    0.558\n",
      "-----------------------------------------------------------\n",
      "| End of epoch   8 | Time: 111.27s | Train Accuracy    0.550 | Train Loss   1.134 | Valid Accuracy    0.574 | Valid Loss    1.260 \n",
      "-----------------------------------------------------------\n",
      "| epoch   9 |    10/   23 batches | accuracy    0.564\n",
      "| epoch   9 |    20/   23 batches | accuracy    0.552\n",
      "-----------------------------------------------------------\n",
      "| End of epoch   9 | Time: 91.48s | Train Accuracy    0.618 | Train Loss   1.125 | Valid Accuracy    0.571 | Valid Loss    1.265 \n",
      "-----------------------------------------------------------\n",
      "| epoch  10 |    10/   23 batches | accuracy    0.568\n",
      "| epoch  10 |    20/   23 batches | accuracy    0.571\n",
      "-----------------------------------------------------------\n",
      "| End of epoch  10 | Time: 94.82s | Train Accuracy    0.657 | Train Loss   1.110 | Valid Accuracy    0.574 | Valid Loss    1.249 \n",
      "-----------------------------------------------------------\n"
     ]
    }
   ],
   "source": [
    "num_classes = len(train_data.classes)\n",
    "\n",
    "device = torch.device('cuda' if torch.cuda.is_available () else 'cpu')\n",
    "\n",
    "lenet_model = LeNetClassifier(num_classes)\n",
    "lenet_model.to(device)\n",
    "\n",
    "criterion = torch.nn.CrossEntropyLoss ()\n",
    "learning_rate = 2e-4\n",
    "optimizer = optim.Adam(lenet_model.parameters (), learning_rate)\n",
    "\n",
    "num_epochs = 10\n",
    "save_model = './model'\n",
    "\n",
    "train_accs , train_losses = [], []\n",
    "eval_accs , eval_losses = [], []\n",
    "best_loss_eval = 100\n",
    "\n",
    "for epoch in range(1, num_epochs +1):\n",
    "    epoch_start_time = time.time()\n",
    "    # Training\n",
    "    train_acc , train_loss = train(lenet_model , optimizer , criterion , train_dataloader ,device , epoch , log_interval =10)\n",
    "    train_accs.append(train_acc)\n",
    "    train_losses.append(train_loss)\n",
    "\n",
    "    # Evaluation\n",
    "    eval_acc , eval_loss = evaluate(lenet_model , criterion , valid_dataloader)\n",
    "    eval_accs.append(eval_acc)\n",
    "    eval_losses.append(eval_loss)\n",
    "\n",
    "    # Save best model\n",
    "    if eval_loss < best_loss_eval:\n",
    "        torch.save(lenet_model.state_dict (), save_model + '/lenet_model.pt')\n",
    "\n",
    "    # Print loss , acc end epoch\n",
    "    print(\"-\" * 59)\n",
    "    print(\n",
    "        \"| End of epoch {:3d} | Time: {:5.2f}s | Train Accuracy {:8.3f} | Train Loss{:8.3f} \"\n",
    "        \"| Valid Accuracy {:8.3f} | Valid Loss {:8.3f} \".format(\n",
    "        epoch , time.time() - epoch_start_time , train_acc , train_loss , eval_acc ,eval_loss\n",
    "        )\n",
    "    )\n",
    "    print(\"-\" * 59)\n",
    "\n",
    "    # Load best model\n",
    "    lenet_model.load_state_dict(torch.load(save_model + '/lenet_model.pt'))\n",
    "    lenet_model.eval()"
   ]
  },
  {
   "cell_type": "code",
   "execution_count": 10,
   "metadata": {},
   "outputs": [
    {
     "name": "stderr",
     "output_type": "stream",
     "text": [
      "No artists with labels found to put in legend.  Note that artists whose label start with an underscore are ignored when legend() is called with no argument.\n"
     ]
    },
    {
     "data": {
      "image/png": "[encoded data removed]",
      "text/plain": [
       "<Figure size 1000x500 with 2 Axes>"
      ]
     },
     "metadata": {},
     "output_type": "display_data"
    }
   ],
   "source": [
    "epochs = range(1, num_epochs + 1)\n",
    "\n",
    "fig, axes = plt.subplots(1, 2, figsize=(10, 5))\n",
    "\n",
    "# Accuracy\n",
    "axes[0].plot(epochs, train_accs, linestyle='-')\n",
    "axes[0].plot(epochs, eval_accs, linestyle='--')\n",
    "axes[0].set_title(\"Accuracy\")\n",
    "axes[0].set_xlabel(\"Epochs\")\n",
    "axes[0].set_ylabel(\"Accuracy\")\n",
    "axes[0].legend()\n",
    "\n",
    "# Loss\n",
    "axes[1].plot(epochs, train_losses, label=\"Training\", linestyle='-')\n",
    "axes[1].plot(epochs, eval_losses, label=\"Evaluation\", linestyle='--')\n",
    "axes[1].set_title(\"Loss\")\n",
    "axes[1].set_xlabel(\"Epochs\")\n",
    "axes[1].set_ylabel(\"Loss\")\n",
    "axes[1].legend()\n",
    "\n",
    "# Hiển thị biểu đồ\n",
    "plt.tight_layout()\n",
    "plt.show();"
   ]
  },
  {
   "cell_type": "code",
   "execution_count": 11,
   "metadata": {},
   "outputs": [
    {
     "data": {
      "text/plain": [
       "(0.5623342175066313, 1.243166022002697)"
      ]
     },
     "execution_count": 11,
     "metadata": {},
     "output_type": "execute_result"
    }
   ],
   "source": [
    "test_acc, test_loss = evaluate(lenet_model , criterion , test_dataloader)\n",
    "test_acc, test_loss"
   ]
  },
  {
   "cell_type": "code",
   "execution_count": null,
   "metadata": {},
   "outputs": [],
   "source": []
  }
 ],
 "metadata": {
  "kernelspec": {
   "display_name": "aio",
   "language": "python",
   "name": "python3"
  },
  "language_info": {
   "codemirror_mode": {
    "name": "ipython",
    "version": 3
   },
   "file_extension": ".py",
   "mimetype": "text/x-python",
   "name": "python",
   "nbconvert_exporter": "python",
   "pygments_lexer": "ipython3",
   "version": "3.12.3"
  }
 },
 "nbformat": 4,
 "nbformat_minor": 2
}
