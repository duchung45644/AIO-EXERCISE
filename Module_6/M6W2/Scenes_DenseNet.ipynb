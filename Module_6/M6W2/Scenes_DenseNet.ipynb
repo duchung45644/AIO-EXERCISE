{
 "cells": [
  {
   "cell_type": "code",
   "execution_count": 1,
   "metadata": {
    "id": "N9jP5BFLTHoe"
   },
   "outputs": [],
   "source": [
    "import torch\n",
    "import torch.nn as nn\n",
    "import os\n",
    "import random\n",
    "import numpy as np\n",
    "import pandas as pd\n",
    "import matplotlib.pyplot as plt\n",
    "\n",
    "from PIL import Image\n",
    "from torch.utils.data import Dataset, DataLoader\n",
    "from sklearn.model_selection import train_test_split"
   ]
  },
  {
   "cell_type": "code",
   "execution_count": 2,
   "metadata": {
    "id": "FXgwYvhtTHol"
   },
   "outputs": [],
   "source": [
    "def set_seed(seed):\n",
    "    random.seed(seed)\n",
    "    np.random.seed(seed)\n",
    "    torch.manual_seed(seed)\n",
    "    torch.cuda.manual_seed(seed)\n",
    "    torch.cuda.manual_seed_all(seed)\n",
    "    torch.backends.cudnn.deterministic = True\n",
    "    torch.backends.cudnn.benchmark = False\n",
    "\n",
    "seed = 59\n",
    "set_seed(seed)"
   ]
  },
  {
   "cell_type": "code",
   "execution_count": 3,
   "metadata": {
    "colab": {
     "base_uri": "https://localhost:8080/"
    },
    "id": "LhGdP0DNTvfR",
    "outputId": "e73995ab-dbb4-43e8-afac-db88ebd985a9"
   },
   "outputs": [
    {
     "name": "stdout",
     "output_type": "stream",
     "text": [
      "/usr/local/lib/python3.10/dist-packages/gdown/__main__.py:140: FutureWarning: Option `--id` was deprecated in version 4.3.1 and will be removed in 5.0. You don't need to pass it anymore to use a file ID.\n",
      "  warnings.warn(\n",
      "Downloading...\n",
      "From (original): https://drive.google.com/uc?id=1ZUCuYDOe4VVbZvNVZovpquaRQqqJQ639\n",
      "From (redirected): https://drive.google.com/uc?id=1ZUCuYDOe4VVbZvNVZovpquaRQqqJQ639&confirm=t&uuid=5bf542a0-0da0-48f3-8e65-2375b0526313\n",
      "To: /content/img_cls_scenes_classification.zip\n",
      "100% 255M/255M [00:05<00:00, 45.0MB/s]\n"
     ]
    }
   ],
   "source": [
    "# https://drive.google.com/file/d/1ZUCuYDOe4VVbZvNVZovpquaRQqqJQ639\n",
    "!gdown --id 1ZUCuYDOe4VVbZvNVZovpquaRQqqJQ639"
   ]
  },
  {
   "cell_type": "code",
   "execution_count": 4,
   "metadata": {
    "id": "qFZG-vhKT2yb"
   },
   "outputs": [],
   "source": [
    "!unzip -q img_cls_scenes_classification.zip"
   ]
  },
  {
   "cell_type": "code",
   "execution_count": 5,
   "metadata": {
    "id": "-lCJeI4zTHom"
   },
   "outputs": [],
   "source": [
    "root_dir = '/content/scenes_classification'\n",
    "train_dir = os.path.join(root_dir, 'train')\n",
    "test_dir = os.path.join(root_dir, 'val')\n",
    "\n",
    "classes = {\n",
    "    label_idx: class_name for label_idx, class_name in enumerate(os.listdir(train_dir))\n",
    "}"
   ]
  },
  {
   "cell_type": "code",
   "execution_count": 6,
   "metadata": {
    "id": "Fw01XJCUTHon"
   },
   "outputs": [],
   "source": [
    "X_train = []\n",
    "y_train = []\n",
    "X_test = []\n",
    "y_test = []\n",
    "\n",
    "for dataset_path in [train_dir, test_dir]:\n",
    "    for label_idx, class_name in classes.items():\n",
    "        class_dir = os.path.join(dataset_path, class_name)\n",
    "        for img_filename in os.listdir(class_dir):\n",
    "            img_path = os.path.join(class_dir, img_filename)\n",
    "            if 'train' in dataset_path:\n",
    "                X_train.append(img_path)\n",
    "                y_train.append(label_idx)\n",
    "            else:\n",
    "                X_test.append(img_path)\n",
    "                y_test.append(label_idx)"
   ]
  },
  {
   "cell_type": "code",
   "execution_count": 7,
   "metadata": {
    "id": "QF-gJKS_THon"
   },
   "outputs": [],
   "source": [
    "seed = 0\n",
    "val_size = 0.2\n",
    "is_shuffle = True\n",
    "\n",
    "X_train, X_val, y_train, y_val = train_test_split(\n",
    "    X_train, y_train,\n",
    "    test_size=val_size,\n",
    "    random_state=seed,\n",
    "    shuffle=is_shuffle\n",
    ")"
   ]
  },
  {
   "cell_type": "code",
   "execution_count": 8,
   "metadata": {
    "id": "U1zrATLYTHoo"
   },
   "outputs": [],
   "source": [
    "class ScenesDataset(Dataset):\n",
    "    def __init__(self, X, y, transform=None):\n",
    "        self.img_paths = X\n",
    "        self.labels = y\n",
    "        self.transform = transform\n",
    "\n",
    "    def __len__(self):\n",
    "        return len(self.img_paths)\n",
    "\n",
    "    def __getitem__(self, idx):\n",
    "        img_path = self.img_paths[idx]\n",
    "        img = Image.open(img_path).convert('RGB')\n",
    "\n",
    "        label = self.labels[idx]\n",
    "\n",
    "        if self.transform:\n",
    "            img = self.transform(img)\n",
    "\n",
    "        return img, label"
   ]
  },
  {
   "cell_type": "code",
   "execution_count": 9,
   "metadata": {
    "id": "OPu3hEFDTHoo"
   },
   "outputs": [],
   "source": [
    "def transform(img, img_size=(224, 224)):\n",
    "    img = img.resize(img_size)\n",
    "    img = np.array(img)[..., :3]\n",
    "    img = torch.tensor(img).permute(2, 0, 1).float()\n",
    "    normalized_img = img / 255.0\n",
    "\n",
    "    return normalized_img"
   ]
  },
  {
   "cell_type": "code",
   "execution_count": 10,
   "metadata": {
    "id": "CjRPggkiTHos"
   },
   "outputs": [],
   "source": [
    "train_dataset = ScenesDataset(\n",
    "    X_train, y_train,\n",
    "    transform=transform\n",
    ")\n",
    "val_dataset = ScenesDataset(\n",
    "    X_val, y_val,\n",
    "    transform=transform\n",
    ")\n",
    "test_dataset = ScenesDataset(\n",
    "    X_test, y_test,\n",
    "    transform=transform\n",
    ")"
   ]
  },
  {
   "cell_type": "code",
   "execution_count": 11,
   "metadata": {
    "id": "bTpHyQnsTHos"
   },
   "outputs": [],
   "source": [
    "train_batch_size = 64\n",
    "test_batch_size = 8\n",
    "\n",
    "train_loader = DataLoader(\n",
    "    train_dataset,\n",
    "    batch_size=train_batch_size,\n",
    "    shuffle=True\n",
    ")\n",
    "val_loader = DataLoader(\n",
    "    val_dataset,\n",
    "    batch_size=test_batch_size,\n",
    "    shuffle=False\n",
    ")\n",
    "test_loader = DataLoader(\n",
    "    test_dataset,\n",
    "    batch_size=test_batch_size,\n",
    "    shuffle=False\n",
    ")"
   ]
  },
  {
   "cell_type": "code",
   "execution_count": 12,
   "metadata": {
    "id": "27uBaYYJTHos"
   },
   "outputs": [],
   "source": [
    "class BottleneckBlock(nn.Module):\n",
    "    def __init__(self, in_channels, growth_rate):\n",
    "        super(BottleneckBlock, self).__init__()\n",
    "        self.bn1 = nn.BatchNorm2d(in_channels)\n",
    "        self.conv1 = nn.Conv2d(in_channels, 4 * growth_rate, kernel_size=1, bias=False)\n",
    "        self.bn2 = nn.BatchNorm2d(4 * growth_rate)\n",
    "        self.conv2 = nn.Conv2d(4 * growth_rate, growth_rate, kernel_size=3, padding=1, bias=False)\n",
    "        self.relu = nn.ReLU()\n",
    "\n",
    "    def forward(self, x):\n",
    "        res = x.clone().detach()\n",
    "        x = self.bn1(x)\n",
    "        x = self.relu(x)\n",
    "        x = self.conv1(x)\n",
    "        x = self.bn2(x)\n",
    "        x = self.relu(x)\n",
    "        x = self.conv2(x)\n",
    "        x = torch.cat([res, x], 1)\n",
    "\n",
    "        return x\n",
    "\n",
    "\n",
    "class DenseBlock(nn.Module):\n",
    "    def __init__(self, num_layers, in_channels, growth_rate):\n",
    "        super(DenseBlock, self).__init__()\n",
    "        layers = []\n",
    "        for i in range(num_layers):\n",
    "            layers.append(BottleneckBlock(in_channels + i * growth_rate, growth_rate))\n",
    "        self.block = nn.Sequential(* layers)\n",
    "\n",
    "    def forward(self, x):\n",
    "        return self.block(x)\n",
    "\n"
   ]
  },
  {
   "cell_type": "code",
   "execution_count": 13,
   "metadata": {
    "id": "EmUC1JIETHot"
   },
   "outputs": [],
   "source": [
    "class DenseNet(nn.Module):\n",
    "    def __init__(self, num_blocks, growth_rate, num_classes):\n",
    "        super(DenseNet, self).__init__()\n",
    "        self.conv1 = nn.Conv2d(3, 2 * growth_rate, kernel_size=7, padding=3, stride=2, bias=False)\n",
    "        self.bn1 = nn.BatchNorm2d(2 * growth_rate)\n",
    "        self.pool1 = nn.MaxPool2d(kernel_size=3, stride=2, padding=1)\n",
    "\n",
    "        self.dense_blocks = nn.ModuleList()\n",
    "        in_channels = 2 * growth_rate\n",
    "        for i, num_layers in enumerate(num_blocks):\n",
    "            self.dense_blocks.append(DenseBlock(num_layers, in_channels, growth_rate))\n",
    "            in_channels += num_layers * growth_rate\n",
    "            if i != len(num_blocks) - 1:\n",
    "                out_channels = in_channels // 2\n",
    "                self.dense_blocks.append(nn.Sequential(\n",
    "                    nn.BatchNorm2d(in_channels),\n",
    "                    nn.Conv2d(in_channels, out_channels, kernel_size=1, bias=False),\n",
    "                    nn.AvgPool2d(kernel_size=2, stride=2)\n",
    "                ))\n",
    "                in_channels = out_channels\n",
    "\n",
    "        self.bn2 = nn.BatchNorm2d(in_channels)\n",
    "        self.pool2 = nn.AvgPool2d(kernel_size=7)\n",
    "        self.relu = nn.ReLU()\n",
    "        self.fc = nn.Linear(in_channels, num_classes)\n",
    "\n",
    "    def forward(self, x):\n",
    "        x = self.conv1(x)\n",
    "        x = self.bn1(x)\n",
    "        x = self.relu(x)\n",
    "        x = self.pool1(x)\n",
    "\n",
    "        for block in self.dense_blocks:\n",
    "            x = block(x)\n",
    "\n",
    "        x = self.bn2(x)\n",
    "        x = self.relu(x)\n",
    "        x = self.pool2(x)\n",
    "        x = x.view(x.size(0), -1)\n",
    "        x = self.fc(x)\n",
    "\n",
    "        return x\n"
   ]
  },
  {
   "cell_type": "code",
   "execution_count": 14,
   "metadata": {
    "id": "5SQWbVKfTHou"
   },
   "outputs": [],
   "source": [
    "n_classes = len(list(classes.keys()))\n",
    "device = 'cuda' if torch.cuda.is_available() else 'cpu'\n",
    "\n",
    "model = DenseNet([6, 12, 24, 16], 32, n_classes).to(device)"
   ]
  },
  {
   "cell_type": "code",
   "execution_count": 15,
   "metadata": {
    "id": "MFTBstbJTHou"
   },
   "outputs": [],
   "source": [
    "def evaluate(model, dataloader, criterion, device):\n",
    "    model.eval()\n",
    "    correct = 0\n",
    "    total = 0\n",
    "    losses = []\n",
    "    with torch.no_grad():\n",
    "        for inputs, labels in dataloader:\n",
    "            inputs, labels = inputs.to(device), labels.to(device)\n",
    "            outputs = model(inputs)\n",
    "            loss = criterion(outputs, labels)\n",
    "            losses.append(loss.item())\n",
    "            _, predicted = torch.max(outputs.data, 1)\n",
    "            total += labels.size(0)\n",
    "            correct += (predicted == labels).sum().item()\n",
    "\n",
    "    loss = sum(losses) / len(losses)\n",
    "    acc = correct / total\n",
    "\n",
    "    return loss, acc"
   ]
  },
  {
   "cell_type": "code",
   "execution_count": 16,
   "metadata": {
    "id": "RKSbXLX7THou"
   },
   "outputs": [],
   "source": [
    "def fit(\n",
    "    model,\n",
    "    train_loader,\n",
    "    val_loader,\n",
    "    criterion,\n",
    "    optimizer,\n",
    "    device,\n",
    "    epochs\n",
    "):\n",
    "    train_losses = []\n",
    "    val_losses = []\n",
    "\n",
    "    for epoch in range(epochs):\n",
    "        batch_train_losses = []\n",
    "\n",
    "        model.train()\n",
    "        for idx, (inputs, labels) in enumerate(train_loader):\n",
    "            inputs, labels = inputs.to(device), labels.to(device)\n",
    "\n",
    "            optimizer.zero_grad()\n",
    "            outputs = model(inputs)\n",
    "            loss = criterion(outputs, labels)\n",
    "            loss.backward()\n",
    "            optimizer.step()\n",
    "\n",
    "            batch_train_losses.append(loss.item())\n",
    "\n",
    "        train_loss = sum(batch_train_losses) / len(batch_train_losses)\n",
    "        train_losses.append(train_loss)\n",
    "\n",
    "        val_loss, val_acc = evaluate(\n",
    "            model, val_loader,\n",
    "            criterion, device\n",
    "        )\n",
    "        val_losses.append(val_loss)\n",
    "\n",
    "        print(f'EPOCH {epoch + 1}:\\tTrain loss: {train_loss:.4f}\\tValloss: {val_loss:.4f}')\n",
    "\n",
    "    return train_losses, val_losses\n"
   ]
  },
  {
   "cell_type": "code",
   "execution_count": 17,
   "metadata": {
    "id": "1FVgL1FfTHov"
   },
   "outputs": [],
   "source": [
    "lr = 1e-2\n",
    "epochs = 15\n",
    "\n",
    "criterion = nn.CrossEntropyLoss()\n",
    "optimizer = torch.optim.SGD(\n",
    "    model.parameters(),\n",
    "    lr=lr\n",
    ")\n"
   ]
  },
  {
   "cell_type": "code",
   "execution_count": 18,
   "metadata": {
    "colab": {
     "base_uri": "https://localhost:8080/"
    },
    "id": "5vcLWztoTHox",
    "outputId": "0eb3bbd1-07f2-4aa2-b63d-f49658b34ac1"
   },
   "outputs": [
    {
     "name": "stdout",
     "output_type": "stream",
     "text": [
      "EPOCH 1:\tTrain loss: 1.4423\tValloss: 1.2557\n",
      "EPOCH 2:\tTrain loss: 1.2114\tValloss: 1.1451\n",
      "EPOCH 3:\tTrain loss: 1.1270\tValloss: 1.0870\n",
      "EPOCH 4:\tTrain loss: 1.0712\tValloss: 1.0223\n",
      "EPOCH 5:\tTrain loss: 1.0159\tValloss: 0.9673\n",
      "EPOCH 6:\tTrain loss: 0.9705\tValloss: 0.9236\n",
      "EPOCH 7:\tTrain loss: 0.9220\tValloss: 0.8708\n",
      "EPOCH 8:\tTrain loss: 0.8703\tValloss: 0.8377\n",
      "EPOCH 9:\tTrain loss: 0.8373\tValloss: 0.7972\n",
      "EPOCH 10:\tTrain loss: 0.7940\tValloss: 0.7706\n",
      "EPOCH 11:\tTrain loss: 0.7576\tValloss: 0.7274\n",
      "EPOCH 12:\tTrain loss: 0.7240\tValloss: 0.7212\n",
      "EPOCH 13:\tTrain loss: 0.6932\tValloss: 0.7122\n",
      "EPOCH 14:\tTrain loss: 0.6596\tValloss: 0.6789\n",
      "EPOCH 15:\tTrain loss: 0.6319\tValloss: 0.6932\n"
     ]
    }
   ],
   "source": [
    "train_losses, val_losses = fit(\n",
    "    model,\n",
    "    train_loader,\n",
    "    val_loader,\n",
    "    criterion,\n",
    "    optimizer,\n",
    "    device,\n",
    "    epochs\n",
    ")"
   ]
  },
  {
   "cell_type": "code",
   "execution_count": 21,
   "metadata": {
    "id": "3v1BBY8Kbniw"
   },
   "outputs": [],
   "source": [
    "# save model\n",
    "torch.save(model.state_dict(), 'Sences_DenseNet.pth')"
   ]
  },
  {
   "cell_type": "code",
   "execution_count": 19,
   "metadata": {
    "colab": {
     "base_uri": "https://localhost:8080/",
     "height": 407
    },
    "id": "dJEAFuDFTHoy",
    "outputId": "de4ee143-d1a1-446a-a22a-4e552ae2ad44"
   },
   "outputs": [
    {
     "data": {
      "image/png": "[encoded data removed]",
      "text/plain": [
       "<Figure size 1000x400 with 2 Axes>"
      ]
     },
     "metadata": {},
     "output_type": "display_data"
    }
   ],
   "source": [
    "epochs_range = range(1, epochs + 1)\n",
    "\n",
    "# Plotting Training and Validation Loss\n",
    "fig, axes = plt.subplots(1, 2, figsize=(10, 4))\n",
    "\n",
    "# Training Loss\n",
    "axes[0].plot(epochs_range, train_losses, color='tab:blue')\n",
    "axes[0].set_title(\"Training Loss\")\n",
    "axes[0].set_xlabel(\"Epoch\")\n",
    "axes[0].set_ylabel(\"Loss\")\n",
    "\n",
    "# Validation Loss\n",
    "axes[1].plot(epochs_range, val_losses, color='orange')\n",
    "axes[1].set_title(\"Val Loss\")\n",
    "axes[1].set_xlabel(\"Epoch\")\n",
    "axes[1].set_ylabel(\"Loss\")\n",
    "\n",
    "plt.tight_layout()\n",
    "plt.show()"
   ]
  },
  {
   "cell_type": "code",
   "execution_count": 20,
   "metadata": {
    "colab": {
     "base_uri": "https://localhost:8080/"
    },
    "id": "WKV2B-lATHoz",
    "outputId": "9c511fe5-4672-4a26-ea6c-dedf979685a3"
   },
   "outputs": [
    {
     "name": "stdout",
     "output_type": "stream",
     "text": [
      "Evaluation on val/test dataset \n",
      "Val accuracy:  0.7420733879586747\n",
      "Test accuracy:  0.7406666666666667\n"
     ]
    }
   ],
   "source": [
    "val_loss, val_acc = evaluate(\n",
    "    model,\n",
    "    val_loader,\n",
    "    criterion,\n",
    "    device\n",
    ")\n",
    "test_loss, test_acc = evaluate(\n",
    "    model,\n",
    "    test_loader,\n",
    "    criterion,\n",
    "    device\n",
    ")\n",
    "\n",
    "print('Evaluation on val/test dataset ')\n",
    "print('Val accuracy: ', val_acc)\n",
    "print('Test accuracy: ', test_acc)\n"
   ]
  }
 ],
 "metadata": {
  "accelerator": "GPU",
  "colab": {
   "gpuType": "T4",
   "provenance": []
  },
  "kernelspec": {
   "display_name": "aio",
   "language": "python",
   "name": "python3"
  },
  "language_info": {
   "codemirror_mode": {
    "name": "ipython",
    "version": 3
   },
   "file_extension": ".py",
   "mimetype": "text/x-python",
   "name": "python",
   "nbconvert_exporter": "python",
   "pygments_lexer": "ipython3",
   "version": "3.12.3"
  }
 },
 "nbformat": 4,
 "nbformat_minor": 0
}
