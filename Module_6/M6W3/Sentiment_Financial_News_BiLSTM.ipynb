{
  "nbformat": 4,
  "nbformat_minor": 0,
  "metadata": {
    "colab": {
      "provenance": [],
      "gpuType": "T4"
    },
    "kernelspec": {
      "name": "python3",
      "display_name": "Python 3"
    },
    "language_info": {
      "name": "python"
    },
    "accelerator": "GPU"
  },
  "cells": [
    {
      "cell_type": "code",
      "source": [
        "!pip install unidecode"
      ],
      "metadata": {
        "colab": {
          "base_uri": "https://localhost:8080/"
        },
        "id": "P4RhE286-tw9",
        "outputId": "e7299a15-1a6a-488d-90d4-176138865eac"
      },
      "execution_count": 1,
      "outputs": [
        {
          "output_type": "stream",
          "name": "stdout",
          "text": [
            "Collecting unidecode\n",
            "  Downloading Unidecode-1.3.8-py3-none-any.whl.metadata (13 kB)\n",
            "Downloading Unidecode-1.3.8-py3-none-any.whl (235 kB)\n",
            "\u001b[?25l   \u001b[90m━━━━━━━━━━━━━━━━━━━━━━━━━━━━━━━━━━━━━━━━\u001b[0m \u001b[32m0.0/235.5 kB\u001b[0m \u001b[31m?\u001b[0m eta \u001b[36m-:--:--\u001b[0m\r\u001b[2K   \u001b[90m━━━━━━━━━━━━━━━━━━━━━━━━━━━━━━━━━━━━━━━━\u001b[0m \u001b[32m235.5/235.5 kB\u001b[0m \u001b[31m7.3 MB/s\u001b[0m eta \u001b[36m0:00:00\u001b[0m\n",
            "\u001b[?25hInstalling collected packages: unidecode\n",
            "Successfully installed unidecode-1.3.8\n"
          ]
        }
      ]
    },
    {
      "cell_type": "code",
      "execution_count": 2,
      "metadata": {
        "colab": {
          "base_uri": "https://localhost:8080/"
        },
        "id": "wS_QmCWb-b6v",
        "outputId": "83bd666a-2a7b-4e47-fb5e-8784c210a338"
      },
      "outputs": [
        {
          "output_type": "stream",
          "name": "stderr",
          "text": [
            "[nltk_data] Downloading package stopwords to /root/nltk_data...\n",
            "[nltk_data]   Unzipping corpora/stopwords.zip.\n"
          ]
        }
      ],
      "source": [
        "import torch\n",
        "import torch.nn as nn\n",
        "\n",
        "seed = 1\n",
        "torch.manual_seed(seed)\n",
        "\n",
        "import os\n",
        "import numpy as np\n",
        "import pandas as pd\n",
        "import matplotlib.pyplot as plt\n",
        "import re\n",
        "import nltk\n",
        "import unidecode\n",
        "\n",
        "nltk.download('stopwords')\n",
        "from nltk.corpus import stopwords\n",
        "from nltk.stem.porter import PorterStemmer\n",
        "\n",
        "from torch.utils.data import Dataset , DataLoader\n",
        "from sklearn.model_selection import train_test_split"
      ]
    },
    {
      "cell_type": "code",
      "source": [
        "# https://drive.google.com/file/d/1uYXI4O3oWBA6QC8ZJ-r6yaTTfkdAnl_Q\n",
        "!gdown --id 1uYXI4O3oWBA6QC8ZJ-r6yaTTfkdAnl_Q"
      ],
      "metadata": {
        "colab": {
          "base_uri": "https://localhost:8080/"
        },
        "id": "bNdgr1nb-eKy",
        "outputId": "faab8661-906d-4b32-e7c7-7ad4b6fffa93"
      },
      "execution_count": 3,
      "outputs": [
        {
          "output_type": "stream",
          "name": "stdout",
          "text": [
            "/usr/local/lib/python3.10/dist-packages/gdown/__main__.py:140: FutureWarning: Option `--id` was deprecated in version 4.3.1 and will be removed in 5.0. You don't need to pass it anymore to use a file ID.\n",
            "  warnings.warn(\n",
            "Downloading...\n",
            "From: https://drive.google.com/uc?id=1uYXI4O3oWBA6QC8ZJ-r6yaTTfkdAnl_Q\n",
            "To: /content/dataset.zip\n",
            "100% 230k/230k [00:00<00:00, 5.09MB/s]\n"
          ]
        }
      ]
    },
    {
      "cell_type": "code",
      "source": [
        "!unzip /content/dataset.zip"
      ],
      "metadata": {
        "colab": {
          "base_uri": "https://localhost:8080/"
        },
        "id": "RAbtOLgx-hx5",
        "outputId": "1f84d1ab-a493-46fd-a9a3-b9bc1c15a05c"
      },
      "execution_count": 4,
      "outputs": [
        {
          "output_type": "stream",
          "name": "stdout",
          "text": [
            "Archive:  /content/dataset.zip\n",
            "   creating: dataset/\n",
            "  inflating: dataset/all-data.csv    \n"
          ]
        }
      ]
    },
    {
      "cell_type": "code",
      "source": [
        "dataset_path = 'dataset/all-data.csv'\n",
        "headers = ['sentiment', 'content']\n",
        "df = pd. read_csv (\n",
        "  dataset_path,\n",
        "  names = headers,\n",
        "  encoding ='ISO-8859-1'\n",
        ")"
      ],
      "metadata": {
        "id": "ONhRFwJP-3uG"
      },
      "execution_count": 96,
      "outputs": []
    },
    {
      "cell_type": "code",
      "source": [
        "classes = {\n",
        "    class_name: idx for idx, class_name in enumerate(df['sentiment'].unique()\n",
        "                                                     .tolist())\n",
        "}\n",
        "df['sentiment'] = df['sentiment'].apply(lambda x: classes[x])"
      ],
      "metadata": {
        "id": "8e2mpIzC_nZp"
      },
      "execution_count": 97,
      "outputs": []
    },
    {
      "cell_type": "markdown",
      "source": [
        "## Tiền xử lý dữ liệu"
      ],
      "metadata": {
        "id": "4UrHECPjA2qM"
      }
    },
    {
      "cell_type": "code",
      "source": [
        "english_stop_words = stopwords.words('english')\n",
        "stemmer = PorterStemmer()\n",
        "\n",
        "\n",
        "def text_normalize(text):\n",
        "    text = text.lower()\n",
        "    text = unidecode.unidecode(text)\n",
        "    text = text.strip()\n",
        "    text = re.sub(r'[^\\w\\s]', '', text)\n",
        "    text = ' '.join([word for word in text.split(' ') if word not in english_stop_words])\n",
        "    text = ' '.join([stemmer.stem(word) for word in text.split(' ')])\n",
        "\n",
        "    return text"
      ],
      "metadata": {
        "id": "dNuj12pO_63i"
      },
      "execution_count": 98,
      "outputs": []
    },
    {
      "cell_type": "markdown",
      "source": [
        "## Xây dựng bộ từ vựng"
      ],
      "metadata": {
        "id": "Ph-4AE4aAw5k"
      }
    },
    {
      "cell_type": "code",
      "source": [
        "vocab = []\n",
        "for sentence in df['content']. tolist():\n",
        "    tokens = sentence . split()\n",
        "    for token in tokens:\n",
        "        if token not in vocab:\n",
        "            vocab . append(token)\n",
        "\n",
        "vocab . append('UNK')\n",
        "vocab . append('PAD')\n",
        "word_to_idx = {word: idx for idx, word in enumerate(vocab)}\n",
        "vocab_size = len(vocab)"
      ],
      "metadata": {
        "id": "8OdrzX5BAiGs"
      },
      "execution_count": 99,
      "outputs": []
    },
    {
      "cell_type": "code",
      "source": [
        "def transform(text, word_to_idx, max_seq_len):\n",
        "\n",
        "    tokens = []\n",
        "    for w in text.split():\n",
        "        try:\n",
        "            w_ids = word_to_idx[w]\n",
        "        except:\n",
        "            w_ids = word_to_idx['UNK']\n",
        "        tokens.append(w_ids)\n",
        "\n",
        "    if len(tokens) < max_seq_len:\n",
        "        tokens += [word_to_idx['PAD']] * (max_seq_len - len(tokens))\n",
        "    elif len(tokens) > max_seq_len:\n",
        "        tokens = tokens[: max_seq_len]\n",
        "\n",
        "    return tokens"
      ],
      "metadata": {
        "id": "eKzIB8H4Av8_"
      },
      "execution_count": 100,
      "outputs": []
    },
    {
      "cell_type": "markdown",
      "source": [
        "## Chia  bộ dữ liệu train, val, test"
      ],
      "metadata": {
        "id": "cC4vSRHrBlef"
      }
    },
    {
      "cell_type": "code",
      "source": [
        "val_size = 0.2\n",
        "test_size = 0.125\n",
        "is_shuffle = True\n",
        "texts = df['content'].tolist()\n",
        "labels = df['sentiment'].tolist()\n",
        "\n",
        "X_train, X_val, y_train, y_val = train_test_split(\n",
        "    texts, labels,\n",
        "    test_size=val_size,\n",
        "    random_state=seed,\n",
        "    shuffle=is_shuffle\n",
        ")\n",
        "\n",
        "X_train, X_test, y_train, y_test = train_test_split(\n",
        "    X_train, y_train,\n",
        "    test_size=val_size,\n",
        "    random_state=seed,\n",
        "    shuffle=is_shuffle\n",
        ")"
      ],
      "metadata": {
        "id": "5IAiJqS4BUay"
      },
      "execution_count": 101,
      "outputs": []
    },
    {
      "cell_type": "markdown",
      "source": [
        "## Xây dựng pytorch datasets"
      ],
      "metadata": {
        "id": "Hd32nma7Btsj"
      }
    },
    {
      "cell_type": "code",
      "source": [
        "class FinancialNews (Dataset):\n",
        "    def __init__(\n",
        "        self,\n",
        "        X, y,\n",
        "        word_to_idx,\n",
        "        max_seq_len,\n",
        "        transform=None\n",
        "    ):\n",
        "        self.texts = X\n",
        "        self.labels = y\n",
        "        self.word_to_idx = word_to_idx\n",
        "\n",
        "        self.max_seq_len = max_seq_len\n",
        "        self.transform = transform\n",
        "\n",
        "    def __len__(self):\n",
        "        return len(self.texts)\n",
        "\n",
        "    def __getitem__(self, idx):\n",
        "        text = self.texts[idx]\n",
        "        label = self.labels[idx]\n",
        "\n",
        "        if self.transform:\n",
        "            text = self.transform(\n",
        "                text,\n",
        "                self.word_to_idx,\n",
        "                self.max_seq_len\n",
        "            )\n",
        "        text = torch.tensor(text)\n",
        "\n",
        "        return text, label"
      ],
      "metadata": {
        "id": "Pi6BIf1lBs6K"
      },
      "execution_count": 102,
      "outputs": []
    },
    {
      "cell_type": "markdown",
      "source": [
        "## Khai báo dataloader"
      ],
      "metadata": {
        "id": "zkpizdu6CLT9"
      }
    },
    {
      "cell_type": "code",
      "source": [
        "max_seq_len = 32\n",
        "train_dataset = FinancialNews(\n",
        "    X_train, y_train,\n",
        "    word_to_idx=word_to_idx,\n",
        "    max_seq_len=max_seq_len,\n",
        "    transform=transform\n",
        ")\n",
        "val_dataset = FinancialNews(\n",
        "    X_val, y_val,\n",
        "    word_to_idx=word_to_idx,\n",
        "    max_seq_len=max_seq_len,\n",
        "    transform=transform\n",
        ")\n",
        "test_dataset = FinancialNews(\n",
        "    X_test, y_test,\n",
        "    word_to_idx=word_to_idx,\n",
        "    max_seq_len=max_seq_len,\n",
        "    transform=transform\n",
        ")\n",
        "\n",
        "train_batch_size = 128\n",
        "test_batch_size = 8\n",
        "\n",
        "train_loader = DataLoader(\n",
        "    train_dataset,\n",
        "    batch_size=train_batch_size,\n",
        "    shuffle=True\n",
        ")\n",
        "val_loader = DataLoader(\n",
        "    val_dataset,\n",
        "    batch_size=test_batch_size,\n",
        "    shuffle=False\n",
        ")\n",
        "test_loader = DataLoader(\n",
        "    test_dataset,\n",
        "    batch_size=test_batch_size,\n",
        "    shuffle=False\n",
        ")"
      ],
      "metadata": {
        "id": "ni5JsDXdCHWj"
      },
      "execution_count": 103,
      "outputs": []
    },
    {
      "cell_type": "markdown",
      "source": [
        "## Xây dựng mô hình"
      ],
      "metadata": {
        "id": "9FwRDJSUCjLM"
      }
    },
    {
      "cell_type": "code",
      "source": [
        "class SentimentClassifierBiLSTM(nn.Module):\n",
        "    def __init__(\n",
        "        self, vocab_size, embedding_dim,\n",
        "        hidden_size, n_layers, n_classes,\n",
        "        dropout_prob\n",
        "    ):\n",
        "        super(SentimentClassifierBiLSTM, self).__init__()\n",
        "        self.embedding = nn.Embedding(vocab_size, embedding_dim)\n",
        "        self.lstm = nn.LSTM(\n",
        "            embedding_dim, hidden_size, n_layers,\n",
        "            batch_first=True, bidirectional=True\n",
        "        )\n",
        "        self.norm = nn.LayerNorm(hidden_size * 2)\n",
        "        self.dropout = nn.Dropout(dropout_prob)\n",
        "        self.fc1 = nn.Linear(hidden_size * 2, 16)\n",
        "        self.relu = nn.ReLU()\n",
        "        self.fc2 = nn.Linear(16, n_classes)\n",
        "\n",
        "    def forward(self, x):\n",
        "        x = self.embedding(x)\n",
        "        x, (hn, cn) = self.lstm(x)\n",
        "        x = x[:, -1, :]\n",
        "\n",
        "        x = self.norm(x)\n",
        "        x = self.dropout(x)\n",
        "        x = self.fc1(x)\n",
        "        x = self.relu(x)\n",
        "        x = self.fc2(x)\n",
        "\n",
        "        return x"
      ],
      "metadata": {
        "id": "b_TJfCGTCiDU"
      },
      "execution_count": 104,
      "outputs": []
    },
    {
      "cell_type": "code",
      "source": [
        "n_classes = len(list(classes.keys()))\n",
        "embedding_dim = 64\n",
        "hidden_size = 64\n",
        "n_layers = 2\n",
        "dropout_prob = 0.2\n",
        "device = 'cuda' if torch.cuda.is_available() else 'cpu'\n",
        "\n",
        "model = SentimentClassifierBiLSTM(\n",
        "    vocab_size=vocab_size,\n",
        "    embedding_dim=embedding_dim,\n",
        "    hidden_size=hidden_size,\n",
        "    n_layers=n_layers,\n",
        "    n_classes=n_classes,\n",
        "    dropout_prob=dropout_prob\n",
        ") .to(device)"
      ],
      "metadata": {
        "id": "ci8Sp8oYC9AH"
      },
      "execution_count": 105,
      "outputs": []
    },
    {
      "cell_type": "markdown",
      "source": [
        "## Loss và optimizer"
      ],
      "metadata": {
        "id": "CCatAa91DMcp"
      }
    },
    {
      "cell_type": "code",
      "source": [
        "lr = 1e-4\n",
        "epochs = 50\n",
        "\n",
        "criterion = nn.CrossEntropyLoss()\n",
        "optimizer = torch.optim.Adam(\n",
        "    model.parameters(),\n",
        "    lr=lr\n",
        ")"
      ],
      "metadata": {
        "id": "ERQgcZ3MDKqI"
      },
      "execution_count": 106,
      "outputs": []
    },
    {
      "cell_type": "markdown",
      "source": [
        "## Training"
      ],
      "metadata": {
        "id": "R0NGQidxDrTl"
      }
    },
    {
      "cell_type": "code",
      "source": [
        "def fit(\n",
        "    model,\n",
        "    train_loader,\n",
        "    val_loader,\n",
        "    criterion,\n",
        "    optimizer,\n",
        "    device,\n",
        "    epochs\n",
        "):\n",
        "    train_losses = []\n",
        "    val_losses = []\n",
        "\n",
        "    for epoch in range(epochs):\n",
        "        batch_train_losses = []\n",
        "\n",
        "        model.train()\n",
        "        for idx, (inputs, labels) in enumerate(train_loader):\n",
        "            inputs, labels = inputs.to(device), labels.to(device)\n",
        "\n",
        "            optimizer.zero_grad()\n",
        "            outputs = model(inputs)\n",
        "            loss = criterion(outputs, labels)\n",
        "            loss.backward()\n",
        "            optimizer.step()\n",
        "\n",
        "            batch_train_losses.append(loss.item())\n",
        "\n",
        "        train_loss = sum(batch_train_losses) / len(batch_train_losses)\n",
        "        train_losses.append(train_loss)\n",
        "\n",
        "        val_loss, val_acc = evaluate(\n",
        "            model, val_loader,\n",
        "            criterion, device\n",
        "        )\n",
        "        val_losses.append(val_loss)\n",
        "\n",
        "        print(f'EPOCH {epoch + 1}: \\t Train loss : {train_loss:.4f} \\t Val loss : {val_loss:.4f}')\n",
        "\n",
        "    return train_losses, val_losses"
      ],
      "metadata": {
        "id": "x_gj83BYDaTr"
      },
      "execution_count": 107,
      "outputs": []
    },
    {
      "cell_type": "code",
      "source": [
        "def evaluate(model, dataloader, criterion, device):\n",
        "    model.eval()\n",
        "    correct = 0\n",
        "    total = 0\n",
        "    losses = []\n",
        "    with torch.no_grad():\n",
        "        for inputs, labels in dataloader:\n",
        "            inputs, labels = inputs.to(device), labels.to(device)\n",
        "            outputs = model(inputs)\n",
        "            loss = criterion(outputs, labels)\n",
        "            losses.append(loss.item())\n",
        "            _, predicted = torch.max(outputs.data, 1)\n",
        "            total += labels.size(0)\n",
        "            correct += (predicted == labels).sum().item()\n",
        "\n",
        "    loss = sum(losses) / len(losses)\n",
        "    acc = correct / total\n",
        "\n",
        "    return loss, acc"
      ],
      "metadata": {
        "id": "cdIzmWiTEVB2"
      },
      "execution_count": 108,
      "outputs": []
    },
    {
      "cell_type": "code",
      "source": [
        "train_losses, val_losses = fit(\n",
        "  model,\n",
        "  train_loader,\n",
        "  val_loader,\n",
        "  criterion,\n",
        "  optimizer,\n",
        "  device,\n",
        "  epochs\n",
        ")"
      ],
      "metadata": {
        "colab": {
          "base_uri": "https://localhost:8080/"
        },
        "id": "cx4AibW0Eiw-",
        "outputId": "c75c328b-c2d4-4066-e810-3d7209a55c41"
      },
      "execution_count": 109,
      "outputs": [
        {
          "output_type": "stream",
          "name": "stdout",
          "text": [
            "EPOCH 1: \t Train loss : 1.0378 \t Val loss : 0.9897\n",
            "EPOCH 2: \t Train loss : 0.9564 \t Val loss : 0.9509\n",
            "EPOCH 3: \t Train loss : 0.9443 \t Val loss : 0.9395\n",
            "EPOCH 4: \t Train loss : 0.9282 \t Val loss : 0.9351\n",
            "EPOCH 5: \t Train loss : 0.9230 \t Val loss : 0.9324\n",
            "EPOCH 6: \t Train loss : 0.9236 \t Val loss : 0.9304\n",
            "EPOCH 7: \t Train loss : 0.9203 \t Val loss : 0.9285\n",
            "EPOCH 8: \t Train loss : 0.9136 \t Val loss : 0.9278\n",
            "EPOCH 9: \t Train loss : 0.9230 \t Val loss : 0.9269\n",
            "EPOCH 10: \t Train loss : 0.9160 \t Val loss : 0.9262\n",
            "EPOCH 11: \t Train loss : 0.9129 \t Val loss : 0.9254\n",
            "EPOCH 12: \t Train loss : 0.9081 \t Val loss : 0.9251\n",
            "EPOCH 13: \t Train loss : 0.9165 \t Val loss : 0.9248\n",
            "EPOCH 14: \t Train loss : 0.9092 \t Val loss : 0.9232\n",
            "EPOCH 15: \t Train loss : 0.9055 \t Val loss : 0.9237\n",
            "EPOCH 16: \t Train loss : 0.8992 \t Val loss : 0.9231\n",
            "EPOCH 17: \t Train loss : 0.8991 \t Val loss : 0.9236\n",
            "EPOCH 18: \t Train loss : 0.8978 \t Val loss : 0.9229\n",
            "EPOCH 19: \t Train loss : 0.8957 \t Val loss : 0.9220\n",
            "EPOCH 20: \t Train loss : 0.8880 \t Val loss : 0.9229\n",
            "EPOCH 21: \t Train loss : 0.8843 \t Val loss : 0.9221\n",
            "EPOCH 22: \t Train loss : 0.8913 \t Val loss : 0.9215\n",
            "EPOCH 23: \t Train loss : 0.8853 \t Val loss : 0.9209\n",
            "EPOCH 24: \t Train loss : 0.8746 \t Val loss : 0.9202\n",
            "EPOCH 25: \t Train loss : 0.8749 \t Val loss : 0.9154\n",
            "EPOCH 26: \t Train loss : 0.8659 \t Val loss : 0.9134\n",
            "EPOCH 27: \t Train loss : 0.8556 \t Val loss : 0.9032\n",
            "EPOCH 28: \t Train loss : 0.8364 \t Val loss : 0.8865\n",
            "EPOCH 29: \t Train loss : 0.8310 \t Val loss : 0.8898\n",
            "EPOCH 30: \t Train loss : 0.8138 \t Val loss : 0.8759\n",
            "EPOCH 31: \t Train loss : 0.7996 \t Val loss : 0.8705\n",
            "EPOCH 32: \t Train loss : 0.7881 \t Val loss : 0.8670\n",
            "EPOCH 33: \t Train loss : 0.7812 \t Val loss : 0.8798\n",
            "EPOCH 34: \t Train loss : 0.7747 \t Val loss : 0.8756\n",
            "EPOCH 35: \t Train loss : 0.7689 \t Val loss : 0.8753\n",
            "EPOCH 36: \t Train loss : 0.7623 \t Val loss : 0.8939\n",
            "EPOCH 37: \t Train loss : 0.7531 \t Val loss : 0.8728\n",
            "EPOCH 38: \t Train loss : 0.7323 \t Val loss : 0.8746\n",
            "EPOCH 39: \t Train loss : 0.7381 \t Val loss : 0.8727\n",
            "EPOCH 40: \t Train loss : 0.7257 \t Val loss : 0.8779\n",
            "EPOCH 41: \t Train loss : 0.7203 \t Val loss : 0.8714\n",
            "EPOCH 42: \t Train loss : 0.7066 \t Val loss : 0.8776\n",
            "EPOCH 43: \t Train loss : 0.6994 \t Val loss : 0.8767\n",
            "EPOCH 44: \t Train loss : 0.6865 \t Val loss : 0.8781\n",
            "EPOCH 45: \t Train loss : 0.6761 \t Val loss : 0.8843\n",
            "EPOCH 46: \t Train loss : 0.6768 \t Val loss : 0.8895\n",
            "EPOCH 47: \t Train loss : 0.6624 \t Val loss : 0.8958\n",
            "EPOCH 48: \t Train loss : 0.6464 \t Val loss : 0.8977\n",
            "EPOCH 49: \t Train loss : 0.6434 \t Val loss : 0.9005\n",
            "EPOCH 50: \t Train loss : 0.6290 \t Val loss : 0.9103\n"
          ]
        }
      ]
    },
    {
      "cell_type": "code",
      "source": [
        "torch.save(model.state_dict(), 'Sentiment_Financial_News_BiLSTM.pth')"
      ],
      "metadata": {
        "id": "SxoXL7Y8HdXI"
      },
      "execution_count": 110,
      "outputs": []
    },
    {
      "cell_type": "code",
      "source": [
        "epochs_range = range(1, epochs + 1)\n",
        "\n",
        "# Plotting Training and Validation Loss\n",
        "fig, axes = plt.subplots(1, 2, figsize=(10, 4))\n",
        "\n",
        "# Training Loss\n",
        "axes[0].plot(epochs_range, train_losses, color='tab:blue')\n",
        "axes[0].set_title(\"Training Loss\")\n",
        "axes[0].set_xlabel(\"Epoch\")\n",
        "axes[0].set_ylabel(\"Loss\")\n",
        "\n",
        "# Validation Loss\n",
        "axes[1].plot(epochs_range, val_losses, color='orange')\n",
        "axes[1].set_title(\"Val Loss\")\n",
        "axes[1].set_xlabel(\"Epoch\")\n",
        "axes[1].set_ylabel(\"Loss\")\n",
        "\n",
        "plt.tight_layout()\n",
        "plt.show()"
      ],
      "metadata": {
        "colab": {
          "base_uri": "https://localhost:8080/",
          "height": 292
        },
        "id": "YRogfGVkFMGa",
        "outputId": "9e717a91-ee05-4932-9641-0460c8df3267"
      },
      "execution_count": 111,
      "outputs": [
        {
          "output_type": "display_data",
          "data": {
            "text/plain": [
              "<Figure size 1000x400 with 2 Axes>"
            ],
            "image/png": "[encoded data removed]"
          },
          "metadata": {}
        }
      ]
    },
    {
      "cell_type": "code",
      "source": [
        "val_loss, val_acc = evaluate(\n",
        "    model,\n",
        "    val_loader,\n",
        "    criterion,\n",
        "    device\n",
        ")\n",
        "test_loss, test_acc = evaluate(\n",
        "    model,\n",
        "    test_loader,\n",
        "    criterion,\n",
        "    device\n",
        ")\n",
        "\n",
        "print('Evaluation on val / test dataset ')\n",
        "print('Val accuracy : ', val_acc)\n",
        "print('Test accuracy : ', test_acc)"
      ],
      "metadata": {
        "colab": {
          "base_uri": "https://localhost:8080/"
        },
        "id": "eNl7h1UKGfnU",
        "outputId": "a0b85549-2635-4de2-9c1b-011e2e908655"
      },
      "execution_count": 112,
      "outputs": [
        {
          "output_type": "stream",
          "name": "stdout",
          "text": [
            "Evaluation on val / test dataset \n",
            "Val accuracy :  0.6298969072164948\n",
            "Test accuracy :  0.645618556701031\n"
          ]
        }
      ]
    },
    {
      "cell_type": "code",
      "source": [],
      "metadata": {
        "id": "UqKJSVFxIqHs"
      },
      "execution_count": 112,
      "outputs": []
    }
  ]
}