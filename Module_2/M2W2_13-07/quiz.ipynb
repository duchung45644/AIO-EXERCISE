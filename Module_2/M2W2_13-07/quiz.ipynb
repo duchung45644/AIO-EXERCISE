{
 "cells": [
  {
   "cell_type": "markdown",
   "metadata": {},
   "source": [
    "\n",
    "\n",
    "# Matrix inverse\n",
    "$$\n",
    "\\begin{array}{l}\n",
    "\\mathbf{A} = \\begin{bmatrix}\n",
    "-2 & 6 \\\\\n",
    "8 & -4\n",
    "\\end{bmatrix}\n",
    "\\\\[10pt]\n",
    "\\det(\\mathbf{A}) = ad - bc = (-2) \\times (-4) - 8 \\times 6 = -40\n",
    "\\\\[10pt]\n",
    "\\det(\\mathbf{A}) = -40 \\neq 0 \\quad \\Rightarrow invertible\n",
    "\\\\[10pt]\n",
    "\\mathbf{A}^{-1} = \\frac{1}{\\det(\\mathbf{A})} \\begin{bmatrix}\n",
    "d & -b \\\\\n",
    "-c & a\n",
    "\\end{bmatrix} = \\frac{1}{-40} \\begin{bmatrix}\n",
    "-4 & -6 \\\\\n",
    "-8 & -2\n",
    "\\end{bmatrix} = \\begin{bmatrix}\n",
    "0.1 & 0.15 \\\\\n",
    "0.2 & 0.05\n",
    "\\end{bmatrix}\n",
    "\\end{array}\n",
    "$$\n"
   ]
  },
  {
   "cell_type": "markdown",
   "metadata": {},
   "source": [
    "# Eigenvector and eigenvalue\n",
    "$$\n",
    "\\mathbf{A} = \\begin{bmatrix}\n",
    "0.9 & 0.2 \\\\\n",
    "0.1 & 0.8\n",
    "\\end{bmatrix}\n",
    "$$\n",
    "## Eigenvalue\n",
    "$$\n",
    "\\begin{array}{l}\n",
    "Eigenvalue(\\lambda) = det(A - \\lambda I) = 0\\\\\n",
    "\\\\[10pt]\n",
    "det(\\begin{bmatrix}\n",
    "        0.9 & 0.2 \\\\\n",
    "        0.1 & 0.8\n",
    "    \\end{bmatrix} - \\lambda \n",
    "    \\begin{bmatrix}\n",
    "        1 & 0 \\\\\n",
    "        0 & 1\n",
    "    \\end{bmatrix}) = 0\\\\\n",
    "det(\\begin{bmatrix}\n",
    "        0.9 - \\lambda & 0.2 \\\\\n",
    "        0.1 & 0.8 - \\lambda\n",
    "    \\end{bmatrix}) = 0\\\\\n",
    "\\\\[10pt]\n",
    "\\to (0.9 - \\lambda)(0.8 - \\lambda) - 0.2*0.1 = 0\\\\\n",
    "\\to 0.72 - 1.7\\lambda + \\lambda^2 - 0.02 = 0\\\\\n",
    "\\to \\lambda^2 - 1.7\\lambda + 0.7 = 0\\\\\n",
    "\\Longrightarrow \\begin{bmatrix} \n",
    "                    \\lambda_1 = 1 \\\\ \n",
    "                    \\lambda_2 = 0.7\n",
    "                \\end{bmatrix}\\\\\n",
    "\\end{array}\n",
    "$$\n",
    "\n",
    "## Eigenvectors\n",
    "\n",
    "$$\n",
    "\\begin{array}{l}\n",
    "\n",
    "Eigenvector (v): Av = \\lambda v \\Leftrightarrow (A − \\lambda I)v = 0\\\\\n",
    "\\\\[10pt]\n",
    "Eigenvector for \\lambda _1 = 1 :\\\\\n",
    "(A -1*I)v = \\begin{bmatrix}\n",
    "                0.9 - 1 & 0.2 \\\\\n",
    "                0.1 & 0.8 - 1\n",
    "            \\end{bmatrix} v\n",
    "        = \\begin{bmatrix}\n",
    "                -0.1 & 0.2 \\\\\n",
    "                0.1 & -0.2\n",
    "            \\end{bmatrix} v\n",
    "        = 0\\\\\n",
    "\\to v_1 = \\begin{bmatrix}\n",
    "            1 \\\\\n",
    "            0.5\n",
    "        \\end{bmatrix}\\\\\n",
    "\\\\[10pt]\n",
    "Eigenvector for \\lambda _2 = 0.7 :\\\\\n",
    "(A -0.7*I)v = \\begin{bmatrix}\n",
    "                0.9 - 0.7 & 0.2 \\\\\n",
    "                0.1 & 0.8 - 0.7\n",
    "            \\end{bmatrix} v\n",
    "        = \\begin{bmatrix}\n",
    "                0.2 & 0.2 \\\\\n",
    "                0.1 & 0.1\n",
    "            \\end{bmatrix} v\n",
    "        = 0\\\\\n",
    "\\to v_2 = \\begin{bmatrix}\n",
    "            1 \\\\\n",
    "            -1\n",
    "        \\end{bmatrix}\n",
    "\n",
    "\\end{array}\n",
    "$$"
   ]
  },
  {
   "cell_type": "markdown",
   "metadata": {},
   "source": [
    "## Cosine Similarity\n",
    "$$\n",
    "\\begin{array}{l}\n",
    "Cosine Similarity: cs(x, y) =  \\frac{ x . y}{\\|x \\| \\| y \\|} \n",
    "        = \\frac{\\sum_{1}^n x_i y_i}\n",
    "        {\\sqrt{\\sum_{1}^n x_i^2} \\sqrt{\\sum_{1}^n y_i^2}}\\\\\n",
    "\n",
    "\n",
    "\\\\[10pt]\n",
    "\\mathbf{x} = \\begin{bmatrix} 1 \\\\ 2 \\\\ 3 \\\\ 4 \\end{bmatrix}, \\quad \\mathbf{y} = \\begin{bmatrix} 1 \\\\ 0 \\\\ 3 \\\\ 0 \\end{bmatrix}\\\\\n",
    "\n",
    "\\\\[10pt]\n",
    "Dot Product x⋅y:\\\\\n",
    "x⋅y=(1⋅1)+(2⋅0)+(3⋅3)+(4⋅0)=1+0+9+0=10\\\\\n",
    "\n",
    "\\\\[10pt]\n",
    "Norm \\|x\\| and \\|y\\| :\\\\\n",
    "\\| x \\| = \\sqrt{1^2 + 2^2 + 3^2 + 4^2} = \\sqrt{1 + 4 + 9 + 16} = \\sqrt{30}      \\\\\n",
    "\\| y \\| = \\sqrt{1^2 + 0^2 + 3^2 + 2^2} = \\sqrt{1 + 0 + 9 + 0} = \\sqrt{10}      \\\\\n",
    "\n",
    "\\\\[10pt]\n",
    "Cosine Similarity:      \\\\\n",
    "cs(x, y) = \\frac{ x . y}{\\|x \\| \\| y \\|} = \\frac{10}{\\sqrt{30}\\sqrt{10}} = \\frac{10}{\\sqrt{300}} = \\frac{1}{\\sqrt{3}}\n",
    "\n",
    "\\end{array}\n",
    "$$\n"
   ]
  },
  {
   "cell_type": "markdown",
   "metadata": {},
   "source": [
    "# QUIZ"
   ]
  },
  {
   "cell_type": "code",
   "execution_count": 1,
   "metadata": {},
   "outputs": [
    {
     "name": "stdout",
     "output_type": "stream",
     "text": [
      "23.28\n"
     ]
    }
   ],
   "source": [
    "# 1\n",
    "import numpy as np\n",
    "\n",
    "def compute_vector_length(vector):\n",
    "\n",
    "    len_of_vector = np.sqrt(np.sum(np.square(vector)))\n",
    "\n",
    "    return len_of_vector\n",
    "\n",
    "vector = np.array([-2, 4, 9, 21])\n",
    "result = compute_vector_length(vector)\n",
    "print(round(result, 2))"
   ]
  },
  {
   "cell_type": "code",
   "execution_count": 2,
   "metadata": {},
   "outputs": [
    {
     "name": "stdout",
     "output_type": "stream",
     "text": [
      "4\n"
     ]
    }
   ],
   "source": [
    "# 2\n",
    "import numpy as np\n",
    "\n",
    "def compute_dot_product(vector1, vector2):\n",
    "\n",
    "    vector1 = np.array(vector1)\n",
    "    vector2 = np.array(vector2)\n",
    "\n",
    "    result = np.sum(vector1 * vector2)\n",
    "\n",
    "    return result\n",
    "\n",
    "v1 = np.array([0, 1, -1, 2])\n",
    "v2 = np.array([2, 5, 1, 0])\n",
    "result = compute_dot_product(v1, v2)\n",
    "print(round(result, 2))\n"
   ]
  },
  {
   "cell_type": "code",
   "execution_count": 3,
   "metadata": {},
   "outputs": [
    {
     "name": "stdout",
     "output_type": "stream",
     "text": [
      "[ 5 11]\n"
     ]
    }
   ],
   "source": [
    "# 3\n",
    "import numpy as np\n",
    "\n",
    "x = np.array ([[1, 2], [3, 4]])\n",
    "k = np.array([1,2])\n",
    "\n",
    "print(x.dot(k))"
   ]
  },
  {
   "cell_type": "code",
   "execution_count": 4,
   "metadata": {},
   "outputs": [
    {
     "name": "stdout",
     "output_type": "stream",
     "text": [
      "[ 3 -5]\n"
     ]
    }
   ],
   "source": [
    "# 4\n",
    "import numpy as np\n",
    "\n",
    "x = np.array ([[-1, 2], [3, -4]])\n",
    "k = np.array([1,2])\n",
    "\n",
    "print(x@k)"
   ]
  },
  {
   "cell_type": "code",
   "execution_count": 7,
   "metadata": {},
   "outputs": [
    {
     "name": "stdout",
     "output_type": "stream",
     "text": [
      "[3 1]\n"
     ]
    }
   ],
   "source": [
    "# 5\n",
    "import numpy as np\n",
    "\n",
    "def matrix_multi_vector(matrix, vector):\n",
    "\n",
    "    matrix = np.array(matrix)\n",
    "    vector = np.array(vector)\n",
    "\n",
    "    result = matrix.dot(vector)\n",
    "\n",
    "    return result\n",
    "\n",
    "m = np.array ([[-1, 1, 1], [0, -4, 9]])\n",
    "v = np.array ([0, 2, 1])\n",
    "result = matrix_multi_vector(m, v)\n",
    "print(result)"
   ]
  },
  {
   "cell_type": "code",
   "execution_count": 8,
   "metadata": {},
   "outputs": [
    {
     "name": "stdout",
     "output_type": "stream",
     "text": [
      "[[  6  -1]\n",
      " [-16 -10]]\n"
     ]
    }
   ],
   "source": [
    "# 6\n",
    "import numpy as np\n",
    "\n",
    "def matrix_multi_vector(matrix, vector):\n",
    "\n",
    "    matrix = np.array(matrix)\n",
    "    vector = np.array(vector)\n",
    "\n",
    "    result = matrix.dot(vector)\n",
    "\n",
    "    return result\n",
    "\n",
    "m1 = np.array ([[0, 1, 2], [2, -3, 1]])\n",
    "m2 = np.array ([[1, -3],[6, 1], [0, -1]])\n",
    "result = matrix_multi_vector(m1, m2)\n",
    "print(result)"
   ]
  },
  {
   "cell_type": "code",
   "execution_count": 9,
   "metadata": {},
   "outputs": [
    {
     "name": "stdout",
     "output_type": "stream",
     "text": [
      "[[1. 1. 1.]\n",
      " [2. 2. 2.]\n",
      " [3. 3. 3.]]\n"
     ]
    }
   ],
   "source": [
    "# 7\n",
    "import numpy as np\n",
    "\n",
    "m1 = np.eye(3)\n",
    "m2 = np.array ([[1, 1, 1],[2, 2, 2], [3, 3, 3]])\n",
    "result = m1@m2\n",
    "print(result)"
   ]
  },
  {
   "cell_type": "code",
   "execution_count": 10,
   "metadata": {},
   "outputs": [
    {
     "name": "stdout",
     "output_type": "stream",
     "text": [
      "[5. 5. 5. 5.]\n"
     ]
    }
   ],
   "source": [
    "# 8\n",
    "import numpy as np\n",
    "\n",
    "m1 = np.eye(2)\n",
    "m1 = np.reshape(m1 ,(-1,4))[0]\n",
    "m2 = np.array ([[1, 1, 1, 1],[2, 2, 2, 2], [3, 3, 3, 3], [4, 4, 4, 4]])\n",
    "result = m1@m2\n",
    "print(result)"
   ]
  },
  {
   "cell_type": "code",
   "execution_count": 12,
   "metadata": {},
   "outputs": [
    {
     "name": "stdout",
     "output_type": "stream",
     "text": [
      "[29 29 29 29]\n"
     ]
    }
   ],
   "source": [
    "# 9\n",
    "import numpy as np\n",
    "\n",
    "m1 = np.array ([[1, 2], [3, 4]])\n",
    "m1 = np.reshape(m1 ,(-1,4), \"F\")[0]\n",
    "m2 = np.array ([[1, 1, 1, 1],[2, 2, 2, 2], [3, 3, 3, 3], [4, 4, 4, 4]])\n",
    "result = m1@m2\n",
    "print(result)"
   ]
  },
  {
   "cell_type": "code",
   "execution_count": 13,
   "metadata": {},
   "outputs": [
    {
     "name": "stdout",
     "output_type": "stream",
     "text": [
      "[[0.1  0.15]\n",
      " [0.2  0.05]]\n"
     ]
    }
   ],
   "source": [
    "#  10\n",
    "import numpy as np\n",
    "\n",
    "\n",
    "def inverse_matrix(matrix):\n",
    "\n",
    "    matrix = np.array(matrix)\n",
    "\n",
    "    result = np.linalg.inv(matrix)\n",
    "\n",
    "    return result\n",
    "\n",
    "m1 = np.array([[-2, 6], [8, -4]])\n",
    "result = inverse_matrix(m1)\n",
    "print(result)"
   ]
  },
  {
   "cell_type": "code",
   "execution_count": 14,
   "metadata": {},
   "outputs": [
    {
     "name": "stdout",
     "output_type": "stream",
     "text": [
      "[[ 0.89442719 -0.70710678]\n",
      " [ 0.4472136   0.70710678]]\n"
     ]
    }
   ],
   "source": [
    "# 11\n",
    "import numpy as np\n",
    "\n",
    "def compute_eigenvalues_eigenvectors(matrix):\n",
    "\n",
    "    matrix = np.array(matrix)\n",
    "\n",
    "    eigenvalues, eigenvectors = np.linalg.eig(matrix)\n",
    "\n",
    "    return eigenvalues, eigenvectors\n",
    "\n",
    "matrix = np.array ([[0.9 , 0.2], [0.1, 0.8]])\n",
    "eigenvalues , eigenvectors = compute_eigenvalues_eigenvectors(matrix)\n",
    "print(eigenvectors)"
   ]
  },
  {
   "cell_type": "code",
   "execution_count": 15,
   "metadata": {},
   "outputs": [
    {
     "name": "stdout",
     "output_type": "stream",
     "text": [
      "0.577\n"
     ]
    }
   ],
   "source": [
    "# 12\n",
    "x = np.array ([1, 2, 3, 4])\n",
    "y = np.array ([1, 0, 3, 0])\n",
    "\n",
    "def compute_cosine(v1, v2):\n",
    "    v1 = np.array(v1)\n",
    "    v2 = np.array(v2)\n",
    "\n",
    "    dot_product = np.dot(v1, v2)\n",
    "    norm_v1 = np.linalg.norm(v1)\n",
    "    norm_v2 = np.linalg.norm(v2)\n",
    "\n",
    "    cosine_similarity = dot_product / (norm_v1 * norm_v2)\n",
    "\n",
    "    return cosine_similarity\n",
    "\n",
    "result = compute_cosine(x,y)\n",
    "print(round(result , 3))"
   ]
  }
 ],
 "metadata": {
  "kernelspec": {
   "display_name": "Python 3",
   "language": "python",
   "name": "python3"
  },
  "language_info": {
   "codemirror_mode": {
    "name": "ipython",
    "version": 3
   },
   "file_extension": ".py",
   "mimetype": "text/x-python",
   "name": "python",
   "nbconvert_exporter": "python",
   "pygments_lexer": "ipython3",
   "version": "3.10.1"
  }
 },
 "nbformat": 4,
 "nbformat_minor": 2
}
