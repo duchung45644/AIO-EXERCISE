{
 "cells": [
  {
   "cell_type": "code",
   "execution_count": 1,
   "metadata": {},
   "outputs": [],
   "source": [
    "import numpy as np"
   ]
  },
  {
   "cell_type": "code",
   "execution_count": 5,
   "metadata": {},
   "outputs": [
    {
     "name": "stdout",
     "output_type": "stream",
     "text": [
      "Best split point: 23.5\n",
      "Prediction for x = 25: 73.375\n"
     ]
    }
   ],
   "source": [
    "# XGBoost for regression\n",
    "X = np.array([23, 24, 26, 27])\n",
    "Y = np.array([50, 70, 80, 85])\n",
    "\n",
    "depth = 1\n",
    "lr = 0.3\n",
    "lambda_ = 0\n",
    "\n",
    "# Step 1\n",
    "f0 = Y.mean()\n",
    "\n",
    "# Step 2\n",
    "SumofResiduals = np.sum(Y - f0)\n",
    "NumberofResiduals = len(Y)\n",
    "s_score = (SumofResiduals ** 2) / (NumberofResiduals + lambda_)\n",
    "\n",
    "# Step 3\n",
    "split_points = [23.5, 25, 26.5]\n",
    "gains = []\n",
    "\n",
    "for split_point in split_points:\n",
    "    left = X < split_point\n",
    "    right = X >= split_point\n",
    "    \n",
    "    SumofResiduals_left = np.sum(Y[left] - f0)\n",
    "    NumberofResiduals_left = np.sum(left)\n",
    "    s_score_left = (SumofResiduals_left ** 2) / (NumberofResiduals_left + lambda_)\n",
    "    \n",
    "    SumofResiduals_right = np.sum(Y[right] - f0)\n",
    "    NumberofResiduals_right = np.sum(right)\n",
    "    s_score_right = (SumofResiduals_right ** 2) / (NumberofResiduals_right + lambda_)\n",
    "    \n",
    "    # Step 4\n",
    "    gain = s_score_left + s_score_right - s_score\n",
    "    gains.append((gain, split_point))\n",
    "\n",
    "best_gain, best_split = max(gains, key=lambda x: x[0])\n",
    "\n",
    "# Step 5\n",
    "left = X < best_split\n",
    "right = X >= best_split\n",
    "Output_left = np.sum(Y[left] - f0) / np.sum(left)\n",
    "Output_right = np.sum(Y[right] - f0) / np.sum(right)\n",
    "\n",
    "# Step 6\n",
    "if 25 < best_split:\n",
    "    final_prediction = f0 + lr * Output_left\n",
    "else:\n",
    "    final_prediction = f0 + lr * Output_right\n",
    "\n",
    "print(\"Best split point:\", best_split)\n",
    "print(\"Prediction for x = 25:\", final_prediction)"
   ]
  },
  {
   "cell_type": "code",
   "execution_count": 26,
   "metadata": {},
   "outputs": [
    {
     "name": "stdout",
     "output_type": "stream",
     "text": [
      "0.0\n",
      "Best split point: 25\n",
      "Probability prediction for x = 25: 0.6456563062257954\n"
     ]
    }
   ],
   "source": [
    "# XGBoost for classification\n",
    "X = np.array([23, 24, 26, 27])\n",
    "Y = np.array([False, False, True, True])\n",
    "Y = Y.astype(int)\n",
    "\n",
    "λ = 0\n",
    "depth = 1\n",
    "lr = 0.3\n",
    "f0 = 0.5 \n",
    "\n",
    "# Step 2\n",
    "SumofResiduals = np.sum(Y - f0)\n",
    "denominator = np.sum(f0 * (1 - f0))\n",
    "s_score_root = (SumofResiduals ** 2) / (denominator + λ)\n",
    "print(s_score_root)\n",
    "\n",
    "# Step 3\n",
    "split_points = [23.5, 25, 26.5]\n",
    "gains = []\n",
    "\n",
    "for split_point in split_points:\n",
    "    left = X < split_point\n",
    "    right = X >= split_point\n",
    "    \n",
    "    SumofResiduals_left = np.sum(Y[left] - f0)\n",
    "    denominator_left = np.sum(left) * f0 * (1 - f0)\n",
    "    s_score_left = (SumofResiduals_left ** 2) / (denominator_left + λ)\n",
    "    \n",
    "    SumofResiduals_right = np.sum(Y[right] - f0)\n",
    "    denominator_right = np.sum(right) * f0 * (1 - f0)\n",
    "    s_score_right = (SumofResiduals_right ** 2) / (denominator_right + λ)\n",
    "    \n",
    "    gain = s_score_left + s_score_right - s_score_root\n",
    "    gains.append((gain, split_point))\n",
    "\n",
    "best_gain, best_split = max(gains, key=lambda x: x[0])\n",
    "\n",
    "left = X < best_split\n",
    "right = X >= best_split\n",
    "Output_left = np.sum(Y[left] - f0) / np.sum(left * f0 * (1 - f0))\n",
    "Output_right = np.sum(Y[right] - f0) / np.sum(right * f0 * (1 - f0))\n",
    "\n",
    "if 25 < best_split:\n",
    "    branch_output = Output_left\n",
    "else:\n",
    "    branch_output = Output_right\n",
    "\n",
    "LogPrediction = np.log(f0 / (1 - f0)) + lr * branch_output\n",
    "Probability = np.exp(LogPrediction) / (1 + np.exp(LogPrediction))\n",
    "\n",
    "print(\"Best split point:\", best_split)\n",
    "print(\"Probability prediction for x = 25:\", Probability)\n"
   ]
  }
 ],
 "metadata": {
  "kernelspec": {
   "display_name": "aio",
   "language": "python",
   "name": "python3"
  },
  "language_info": {
   "codemirror_mode": {
    "name": "ipython",
    "version": 3
   },
   "file_extension": ".py",
   "mimetype": "text/x-python",
   "name": "python",
   "nbconvert_exporter": "python",
   "pygments_lexer": "ipython3",
   "version": "3.12.3"
  }
 },
 "nbformat": 4,
 "nbformat_minor": 2
}
