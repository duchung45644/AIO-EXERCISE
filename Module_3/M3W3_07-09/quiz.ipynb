{
 "cells": [
  {
   "cell_type": "code",
   "execution_count": 4,
   "metadata": {},
   "outputs": [
    {
     "data": {
      "text/plain": [
       "1.0"
      ]
     },
     "execution_count": 4,
     "metadata": {},
     "output_type": "execute_result"
    }
   ],
   "source": [
    "# Câu 8\n",
    "from sklearn import datasets\n",
    "from sklearn . model_selection import train_test_split\n",
    "from sklearn . metrics import accuracy_score\n",
    "from sklearn . tree import DecisionTreeClassifier\n",
    "\n",
    "\n",
    "# Load the diabetes dataset\n",
    "\n",
    "iris_X , iris_y = datasets.load_iris(return_X_y = True)\n",
    "X_train , X_test , y_train , y_test = train_test_split (\n",
    "    iris_X , iris_y ,\n",
    "    test_size =0.2 ,\n",
    "    random_state =42)\n",
    "\n",
    "dt_classifier = DecisionTreeClassifier ()\n",
    "\n",
    "dt_classifier . fit ( X_train , y_train )\n",
    "# Preidct and evaluate\n",
    "y_pred = dt_classifier . predict ( X_test )\n",
    "accuracy_score ( y_test , y_pred )"
   ]
  },
  {
   "cell_type": "code",
   "execution_count": 2,
   "metadata": {},
   "outputs": [
    {
     "name": "stderr",
     "output_type": "stream",
     "text": [
      "d:\\Apps\\MiniConda\\envs\\aio\\Lib\\site-packages\\sklearn\\datasets\\_openml.py:320: UserWarning: Multiple active versions of the dataset matching the name machine_cpu exist. Versions may be fundamentally different, returning version 1. Available versions:\n",
      "- version 1, status: active\n",
      "  url: https://www.openml.org/search?type=data&id=230\n",
      "- version 2, status: active\n",
      "  url: https://www.openml.org/search?type=data&id=733\n",
      "\n",
      "  warn(warning_msg)\n"
     ]
    },
    {
     "data": {
      "text/plain": [
       "9405.907407407407"
      ]
     },
     "execution_count": 2,
     "metadata": {},
     "output_type": "execute_result"
    }
   ],
   "source": [
    "# Câu 11\n",
    "from sklearn.datasets import fetch_openml\n",
    "from sklearn.model_selection import train_test_split\n",
    "from sklearn.metrics import mean_squared_error\n",
    "from sklearn.tree import DecisionTreeRegressor\n",
    "\n",
    "# Load dataset\n",
    "machine_cpu = fetch_openml(name='machine_cpu')\n",
    "machine_data = machine_cpu.data\n",
    "machine_labels = machine_cpu.target\n",
    "# Split train:test = 8:2\n",
    "X_train , X_test , y_train , y_test = train_test_split(\n",
    "machine_data , machine_labels ,\n",
    "test_size =0.2,\n",
    "random_state =42)\n",
    "\n",
    "tree_reg = DecisionTreeRegressor ()\n",
    "\n",
    "tree_reg.fit(X_train , y_train)\n",
    "\n",
    "# Preidct and evaluate\n",
    "y_pred = tree_reg.predict(X_test)\n",
    "mean_squared_error(y_test , y_pred)"
   ]
  },
  {
   "cell_type": "code",
   "execution_count": null,
   "metadata": {},
   "outputs": [],
   "source": []
  }
 ],
 "metadata": {
  "kernelspec": {
   "display_name": "aio",
   "language": "python",
   "name": "python3"
  },
  "language_info": {
   "codemirror_mode": {
    "name": "ipython",
    "version": 3
   },
   "file_extension": ".py",
   "mimetype": "text/x-python",
   "name": "python",
   "nbconvert_exporter": "python",
   "pygments_lexer": "ipython3",
   "version": "3.12.3"
  }
 },
 "nbformat": 4,
 "nbformat_minor": 2
}
