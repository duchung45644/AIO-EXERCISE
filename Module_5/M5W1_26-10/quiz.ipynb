{
 "cells": [
  {
   "cell_type": "code",
   "execution_count": 1,
   "metadata": {},
   "outputs": [],
   "source": [
    "import numpy as np"
   ]
  },
  {
   "cell_type": "code",
   "execution_count": 8,
   "metadata": {},
   "outputs": [
    {
     "name": "stdout",
     "output_type": "stream",
     "text": [
      "[0.92988994]\n"
     ]
    }
   ],
   "source": [
    "def predict(X, theta):\n",
    "    z = np.dot(X, theta)\n",
    "    return 1 / (1 + np.exp(-z))\n",
    "\n",
    "X = [[22.3, -1.5, 1.1, 1]]\n",
    "theta = [0.1, -0.15, 0.3, -0.2]\n",
    "\n",
    "print(predict(X, theta))\n"
   ]
  },
  {
   "cell_type": "code",
   "execution_count": 7,
   "metadata": {},
   "outputs": [
    {
     "name": "stdout",
     "output_type": "stream",
     "text": [
      "0.5043515376900958\n"
     ]
    }
   ],
   "source": [
    "def compute_loss(y_hat, y):\n",
    "    y_hat = np.clip(y_hat, 1e-10, 1 - 1e-10)\n",
    "\n",
    "    return (-y * np.log(y_hat) - (1 - y) * np.log(1 - y_hat)).mean()\n",
    "\n",
    "y = np.array([1, 0, 0, 1])\n",
    "y_hat = np.array([0.8, 0.75, 0.3, 0.95])\n",
    "\n",
    "print(compute_loss(y_hat, y))"
   ]
  },
  {
   "cell_type": "code",
   "execution_count": 12,
   "metadata": {},
   "outputs": [
    {
     "name": "stdout",
     "output_type": "stream",
     "text": [
      "[-0.0625  0.0625]\n"
     ]
    }
   ],
   "source": [
    "def compute_gradient(X, y_true, y_pred):\n",
    "    gradient = np.dot(X.T, (y_pred - y_true)) / y_true.size\n",
    "\n",
    "    return gradient\n",
    "\n",
    "X = np.array([[1, 2], [2, 1], [1, 1], [2, 2]])\n",
    "y_true = np.array([0, 1, 0, 1])\n",
    "y_pred = np.array([0.25, 0.75,0.4, 0.8])\n",
    "\n",
    "print(compute_gradient(X, y_true, y_pred))"
   ]
  },
  {
   "cell_type": "code",
   "execution_count": 13,
   "metadata": {},
   "outputs": [
    {
     "name": "stdout",
     "output_type": "stream",
     "text": [
      "1.0\n"
     ]
    }
   ],
   "source": [
    "def compute_accuracy(y_true, y_pred):\n",
    "    y_pred_rounded = np.round(y_pred)\n",
    "    accuracy = np.mean(y_true == y_pred_rounded)\n",
    "\n",
    "    return accuracy\n",
    "\n",
    "y_true = [1, 0, 1, 1]\n",
    "y_pred = [0.85, 0.35, 0.9, 0.75]\n",
    "\n",
    "print(compute_accuracy(y_true, y_pred))"
   ]
  },
  {
   "cell_type": "code",
   "execution_count": 15,
   "metadata": {},
   "outputs": [
    {
     "data": {
      "text/plain": [
       "array([-0.2125, -0.4   ])"
      ]
     },
     "execution_count": 15,
     "metadata": {},
     "output_type": "execute_result"
    }
   ],
   "source": [
    "X = np.array([[1, 3], [2, 1], [3, 2], [1, 2]])\n",
    "y_true = np.array([1, 0, 1, 1])\n",
    "y_pred = np.array([0.7, 0.4,0.6, 0.85])\n",
    "\n",
    "compute_gradient(X, y_true, y_pred)"
   ]
  },
  {
   "cell_type": "code",
   "execution_count": null,
   "metadata": {},
   "outputs": [],
   "source": []
  }
 ],
 "metadata": {
  "kernelspec": {
   "display_name": "aio",
   "language": "python",
   "name": "python3"
  },
  "language_info": {
   "codemirror_mode": {
    "name": "ipython",
    "version": 3
   },
   "file_extension": ".py",
   "mimetype": "text/x-python",
   "name": "python",
   "nbconvert_exporter": "python",
   "pygments_lexer": "ipython3",
   "version": "3.12.3"
  }
 },
 "nbformat": 4,
 "nbformat_minor": 2
}
