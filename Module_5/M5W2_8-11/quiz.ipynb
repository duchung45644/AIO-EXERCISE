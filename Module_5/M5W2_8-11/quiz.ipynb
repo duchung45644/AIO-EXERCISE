{
 "cells": [
  {
   "cell_type": "code",
   "execution_count": 2,
   "metadata": {},
   "outputs": [],
   "source": [
    "import numpy as np"
   ]
  },
  {
   "cell_type": "code",
   "execution_count": null,
   "metadata": {},
   "outputs": [],
   "source": [
    "def loss(y, y_hat):\n",
    "    return -np.sum(y * np.log(y_hat))\n",
    "\n",
    "def softmax(x):\n",
    "    return np.exp(x) / np.sum(np.exp(x))"
   ]
  },
  {
   "cell_type": "code",
   "execution_count": 8,
   "metadata": {},
   "outputs": [
    {
     "name": "stdout",
     "output_type": "stream",
     "text": [
      "0.916\n"
     ]
    }
   ],
   "source": [
    "# Question 5:\n",
    "\n",
    "y_hat = np.array([0.4, 0.15, 0.05, 0.4])\n",
    "y = np.array([1, 0, 0, 0])\n",
    "\n",
    "loss = -np.sum(y * np.log(y_hat))\n",
    "print(np.round(loss, 3)) "
   ]
  },
  {
   "cell_type": "code",
   "execution_count": null,
   "metadata": {},
   "outputs": [
    {
     "name": "stdout",
     "output_type": "stream",
     "text": [
      "[0.013 0.005 0.718 0.264]\n"
     ]
    }
   ],
   "source": [
    "# Question 7:\n",
    "Z = np.array([-1, -2, 3, 2])\n",
    "\n",
    "Z_exp = np.exp(Z)\n",
    "sum_Z_exp = np.sum(Z_exp)\n",
    "\n",
    "softmax = Z_exp / sum_Z_exp\n",
    "\n",
    "print(np.round(softmax, 3))"
   ]
  },
  {
   "cell_type": "code",
   "execution_count": null,
   "metadata": {},
   "outputs": [
    {
     "name": "stdout",
     "output_type": "stream",
     "text": [
      "0.5\n"
     ]
    }
   ],
   "source": [
    "# Question 8:\n",
    "y_hat = np.array([0, 1, 3, 2, 0, 2, 1, 2])\n",
    "y = np.array([0, 0, 3, 2, 1, 2, 2, 1])\n",
    "\n",
    "accuracy = np.mean(y == y_hat)\n",
    "print(np.round(accuracy, 3))"
   ]
  },
  {
   "cell_type": "code",
   "execution_count": null,
   "metadata": {},
   "outputs": [],
   "source": []
  }
 ],
 "metadata": {
  "kernelspec": {
   "display_name": "aio",
   "language": "python",
   "name": "python3"
  },
  "language_info": {
   "codemirror_mode": {
    "name": "ipython",
    "version": 3
   },
   "file_extension": ".py",
   "mimetype": "text/x-python",
   "name": "python",
   "nbconvert_exporter": "python",
   "pygments_lexer": "ipython3",
   "version": "3.12.3"
  }
 },
 "nbformat": 4,
 "nbformat_minor": 2
}
