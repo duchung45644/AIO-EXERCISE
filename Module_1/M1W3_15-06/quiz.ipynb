{
 "cells": [
  {
   "cell_type": "code",
   "execution_count": 29,
   "metadata": {},
   "outputs": [
    {
     "data": {
      "text/plain": [
       "tensor([0.0900, 0.2447, 0.6652])"
      ]
     },
     "execution_count": 29,
     "metadata": {},
     "output_type": "execute_result"
    }
   ],
   "source": [
    "# Câu hỏi 1\n",
    "import torch\n",
    "import torch.nn as nn\n",
    "\n",
    "data = torch.Tensor([1, 2, 3])\n",
    "softmax_function = nn.Softmax(dim=0)\n",
    "output = softmax_function(data)\n",
    "assert round(output[0].item(), 2) == 0.09\n",
    "output"
   ]
  },
  {
   "cell_type": "code",
   "execution_count": 30,
   "metadata": {},
   "outputs": [
    {
     "data": {
      "text/plain": [
       "tensor([0.7054, 0.0351, 0.2595])"
      ]
     },
     "execution_count": 30,
     "metadata": {},
     "output_type": "execute_result"
    }
   ],
   "source": [
    "# Câu hỏi 2\n",
    "import torch\n",
    "import torch.nn as nn\n",
    "\n",
    "class MySoftmax (nn . Module):\n",
    "    def __init__(self):\n",
    "        super().__init__()\n",
    "\n",
    "    def forward(self, x):\n",
    "        x_exp = torch.exp(x)\n",
    "        x_sum = torch.sum(x_exp)\n",
    "        s = x_exp / x_sum\n",
    "        return s\n",
    "\n",
    "\n",
    "data = torch.Tensor([5, 2, 4])\n",
    "my_softmax = MySoftmax()\n",
    "output = my_softmax(data)\n",
    "assert round(output[-1].item(), 2) == 0.26\n",
    "output"
   ]
  },
  {
   "cell_type": "code",
   "execution_count": 31,
   "metadata": {},
   "outputs": [
    {
     "data": {
      "text/plain": [
       "tensor([0., 0., nan])"
      ]
     },
     "execution_count": 31,
     "metadata": {},
     "output_type": "execute_result"
    }
   ],
   "source": [
    "# Câu hỏi 3\n",
    "import torch\n",
    "import torch.nn as nn\n",
    "\n",
    "class MySoftmax (nn . Module):\n",
    "    def __init__(self):\n",
    "        super().__init__()\n",
    "\n",
    "    def forward(self, x):\n",
    "        x_exp = torch.exp(x)\n",
    "        x_sum = torch.sum(x_exp)\n",
    "        s = x_exp / x_sum\n",
    "        return s\n",
    "\n",
    "\n",
    "data = torch.Tensor ([1 , 2 , 300000000])\n",
    "my_softmax = MySoftmax()\n",
    "output = my_softmax(data)\n",
    "assert round(output[0].item(), 2) == 0.0\n",
    "output"
   ]
  },
  {
   "cell_type": "code",
   "execution_count": 32,
   "metadata": {},
   "outputs": [
    {
     "data": {
      "text/plain": [
       "tensor([0.0900, 0.2447, 0.6652])"
      ]
     },
     "execution_count": 32,
     "metadata": {},
     "output_type": "execute_result"
    }
   ],
   "source": [
    "# Câu hỏi 4\n",
    "import torch\n",
    "import torch . nn as nn\n",
    "\n",
    "\n",
    "class SoftmaxStable (nn.Module):\n",
    "    def __init__(self):\n",
    "        super().__init__()\n",
    "\n",
    "    def forward(self, x):\n",
    "        x_max = torch.max(x, dim=0, keepdims=True)\n",
    "        x_exp = torch.exp(x - x_max.values)\n",
    "        partition = x_exp.sum(0, keepdims=True)\n",
    "        return x_exp / partition\n",
    "\n",
    "\n",
    "data = torch.Tensor([1, 2, 3])\n",
    "softmax_stable = SoftmaxStable()\n",
    "output = softmax_stable(data)\n",
    "assert round(output[-1]. item(), 2) == 0.67\n",
    "output\n"
   ]
  },
  {
   "cell_type": "code",
   "execution_count": 33,
   "metadata": {},
   "outputs": [
    {
     "name": "stdout",
     "output_type": "stream",
     "text": [
      "Student - Name: studentZ2023 - YoB: 2011 - Grade: 6\n"
     ]
    }
   ],
   "source": [
    "# Câu hỏi 5\n",
    "from abc import ABC, abstractmethod\n",
    "\n",
    "\n",
    "class Person (ABC):\n",
    "    def __init__(self, name: str, yob: int):\n",
    "        self._name = name\n",
    "        self._yob = yob\n",
    "\n",
    "    def get_yob(self):\n",
    "        return self._yob\n",
    "\n",
    "    @abstractmethod\n",
    "    def describe(self):\n",
    "        pass\n",
    "\n",
    "\n",
    "class Student(Person) :\n",
    "    def __init__(self, name:str, yob:int, grade:str) :\n",
    "        super().__init__(name, yob)\n",
    "        self.grade = grade\n",
    "\n",
    "    def describe ( self ) :\n",
    "        print(f'Student - Name: {self._name} - YoB: {self._yob} - Grade: {self.grade}')\n",
    "\n",
    "student1 = Student(name='studentZ2023', yob=2011, grade='6')\n",
    "assert student1._yob == 2011\n",
    "student1.describe()\n"
   ]
  },
  {
   "cell_type": "code",
   "execution_count": 34,
   "metadata": {},
   "outputs": [
    {
     "name": "stdout",
     "output_type": "stream",
     "text": [
      "Teacher - Name: teacherZ2023 - YoB: 1991 - Subject: History\n"
     ]
    }
   ],
   "source": [
    "# Câu hỏi 6\n",
    "from abc import ABC, abstractmethod\n",
    "\n",
    "\n",
    "class Person (ABC):\n",
    "    def __init__(self, name: str, yob: int):\n",
    "        self._name = name\n",
    "        self._yob = yob\n",
    "\n",
    "    def get_yob(self):\n",
    "        return self._yob\n",
    "\n",
    "    @abstractmethod\n",
    "    def describe(self):\n",
    "        pass\n",
    "\n",
    "class Teacher(Person):\n",
    "    def __init__(self, name, yob, subject):\n",
    "        super().__init__(name, yob)\n",
    "        self.subject = subject\n",
    "    \n",
    "    def describe(self):\n",
    "        print(f'Teacher - Name: {self._name} - YoB: {self._yob} - Subject: {self.subject}')\n",
    "\n",
    "teacher1 = Teacher ( name ='teacherZ2023', yob =1991 , subject ='History')\n",
    "assert teacher1._yob == 1991\n",
    "teacher1.describe ()"
   ]
  },
  {
   "cell_type": "code",
   "execution_count": 35,
   "metadata": {},
   "outputs": [
    {
     "name": "stdout",
     "output_type": "stream",
     "text": [
      "Doctor - Name: doctorZ2023 - YoB: 1981 - Subject: Endocrinologists\n"
     ]
    }
   ],
   "source": [
    "# Câu hỏi 7\n",
    "from abc import ABC, abstractmethod\n",
    "\n",
    "\n",
    "class Person (ABC):\n",
    "    def __init__(self, name: str, yob: int):\n",
    "        self._name = name\n",
    "        self._yob = yob\n",
    "\n",
    "    def get_yob(self):\n",
    "        return self._yob\n",
    "\n",
    "    @abstractmethod\n",
    "    def describe(self):\n",
    "        pass\n",
    "\n",
    "class Doctor(Person):\n",
    "    def __init__(self, name, yob, specialist):\n",
    "        super().__init__(name, yob)\n",
    "        self.specialist = specialist\n",
    "    \n",
    "    def describe(self):\n",
    "        print(f'Doctor - Name: {self._name} - YoB: {self._yob} - Subject: {self.specialist}')\n",
    "\n",
    "doctor1 = Doctor ( name ='doctorZ2023', yob =1981 , specialist ='Endocrinologists')\n",
    "assert doctor1._yob == 1981\n",
    "doctor1.describe ()"
   ]
  },
  {
   "cell_type": "code",
   "execution_count": 36,
   "metadata": {},
   "outputs": [
    {
     "data": {
      "text/plain": [
       "2"
      ]
     },
     "execution_count": 36,
     "metadata": {},
     "output_type": "execute_result"
    }
   ],
   "source": [
    "# Câu hỏi 8\n",
    "from abc import ABC, abstractmethod\n",
    "\n",
    "\n",
    "class Person (ABC):\n",
    "    def __init__(self, name: str, yob: int):\n",
    "        self._name = name\n",
    "        self._yob = yob\n",
    "\n",
    "    def get_yob(self):\n",
    "        return self._yob\n",
    "\n",
    "    @abstractmethod\n",
    "    def describe(self):\n",
    "        pass\n",
    "\n",
    "\n",
    "class Student(Person) :\n",
    "    def __init__(self, name:str, yob:int, grade:str) :\n",
    "        super().__init__(name, yob)\n",
    "        self.grade = grade\n",
    "\n",
    "    def describe ( self ) :\n",
    "        print(f'Student - Name: {self._name} - YoB: {self._yob} - Grade: {self.grade}')\n",
    "\n",
    "\n",
    "class Teacher(Person):\n",
    "    def __init__(self, name, yob, subject):\n",
    "        super().__init__(name, yob)\n",
    "        self.subject = subject\n",
    "    \n",
    "    def describe(self):\n",
    "        print(f'Teacher - Name: {self._name} - YoB: {self._yob} - Subject: {self.subject}')\n",
    "\n",
    "\n",
    "class Doctor(Person):\n",
    "    def __init__(self, name, yob, specialist):\n",
    "        super().__init__(name, yob)\n",
    "        self.specialist = specialist\n",
    "    \n",
    "    def describe(self):\n",
    "        print(f'Doctor - Name: {self._name} - YoB: {self._yob} - Subject: {self.specialist}')\n",
    "\n",
    "\n",
    "class Ward:\n",
    "    def __init__(self, name: str):\n",
    "        self.__name = name\n",
    "        self.__listPeople = list()\n",
    "\n",
    "    def add_person(self, person: Person):\n",
    "        self.__listPeople.append(person)\n",
    "\n",
    "    def describe(self):\n",
    "        print(f'Ward Name : {self.__name }')\n",
    "        for p in self.__listPeople:\n",
    "            p.describe()\n",
    "\n",
    "    def count_doctor(self):\n",
    "        totalDoctor = 0\n",
    "        for p in self.__listPeople:\n",
    "            if type(p).__name__ == 'Doctor':\n",
    "                totalDoctor += 1\n",
    "        return totalDoctor\n",
    "\n",
    "student1 = Student(name ='studentA', yob =2010, grade ='7')\n",
    "teacher1 = Teacher(name ='teacherA', yob =1969, subject ='Math')\n",
    "teacher2 = Teacher(name ='teacherB', yob =1995, subject ='History')\n",
    "doctor1 = Doctor(name ='doctorA', yob =1945, specialist ='Endocrinologists')\n",
    "doctor2 = Doctor ( name ='doctorB', yob =1975 , specialist ='Cardiologists')\n",
    "\n",
    "ward1 = Ward ( name ='Ward1')\n",
    "ward1.add_person(student1)\n",
    "ward1.add_person(teacher1)\n",
    "ward1.add_person(teacher2)\n",
    "ward1.add_person(doctor1)\n",
    "assert ward1.count_doctor() == 1\n",
    "ward1.add_person(doctor2)\n",
    "ward1.count_doctor()"
   ]
  },
  {
   "cell_type": "code",
   "execution_count": 37,
   "metadata": {},
   "outputs": [
    {
     "name": "stdout",
     "output_type": "stream",
     "text": [
      "False\n"
     ]
    }
   ],
   "source": [
    "# Câu hỏi 9\n",
    "class MyStack :\n",
    "    def __init__(self ,capacity ) :\n",
    "        self.__capacity = capacity\n",
    "        self.__stack = []\n",
    "\n",
    "    def is_full (self):\n",
    "        return len(self.__stack) == self.__capacity\n",
    "\n",
    "    def push(self ,value):\n",
    "        self.__stack.append(value)\n",
    "\n",
    "stack1 = MyStack(capacity=5)\n",
    "stack1.push(1)\n",
    "assert stack1.is_full() == False\n",
    "stack1.push(2)\n",
    "print(stack1.is_full())"
   ]
  },
  {
   "cell_type": "code",
   "execution_count": 38,
   "metadata": {},
   "outputs": [
    {
     "name": "stdout",
     "output_type": "stream",
     "text": [
      "2\n"
     ]
    }
   ],
   "source": [
    "# Câu 10\n",
    "class MyStack :\n",
    "    def __init__(self ,capacity) :\n",
    "        self.__capacity = capacity\n",
    "        self.__stack = []\n",
    "\n",
    "    def is_full(self) :\n",
    "        return len(self.__stack ) == self.__capacity\n",
    "\n",
    "    def push(self, value) :\n",
    "        self.__stack.append(value)\n",
    "\n",
    "    def top (self):\n",
    "        return self.__stack[-1]\n",
    "\n",
    "stack1 = MyStack(capacity=5)\n",
    "stack1.push(1)\n",
    "assert stack1.is_full() == False\n",
    "stack1.push (2)\n",
    "print(stack1.top())"
   ]
  },
  {
   "cell_type": "code",
   "execution_count": 39,
   "metadata": {},
   "outputs": [
    {
     "name": "stdout",
     "output_type": "stream",
     "text": [
      "False\n"
     ]
    }
   ],
   "source": [
    "# Câu  hỏi 11\n",
    "\n",
    "class MyQueue :\n",
    "    def __init__ ( self , capacity ) :\n",
    "        self . __capacity = capacity\n",
    "        self . __queue = []\n",
    "\n",
    "    def is_full (self) :\n",
    "        return len(self.__queue ) == self.__capacity\n",
    "    def enqueue (self,value):\n",
    "        return self.__queue.append(value)\n",
    "\n",
    "\n",
    "queue1 = MyQueue(capacity=5)\n",
    "queue1.enqueue(1)\n",
    "assert queue1.is_full() == False\n",
    "queue1.enqueue(2)\n",
    "print(queue1.is_full())"
   ]
  },
  {
   "cell_type": "code",
   "execution_count": 40,
   "metadata": {},
   "outputs": [
    {
     "name": "stdout",
     "output_type": "stream",
     "text": [
      "1\n"
     ]
    }
   ],
   "source": [
    "# Câu hỏi 12: \n",
    "class MyQueue :\n",
    "    def __init__ (self, capacity):\n",
    "        self.__capacity = capacity\n",
    "        self.__queue = []\n",
    "\n",
    "    def isEmpty (self) :\n",
    "        return len(self.__queue) == 0\n",
    "\n",
    "    def is_full (self):\n",
    "        return len(self.__queue) == self.__capacity\n",
    "\n",
    "    def dequeue(self):\n",
    "        self.__queue.pop(0)\n",
    "\n",
    "    def enqueue (self, value):\n",
    "        self.__queue.append(value)\n",
    "    \n",
    "    def front ( self ) :\n",
    "        return self.__queue[0]    \n",
    "\n",
    "queue1 = MyQueue(capacity=5)\n",
    "queue1.enqueue (1)\n",
    "assert queue1.is_full() == False\n",
    "queue1.enqueue(2)\n",
    "print(queue1.front())"
   ]
  }
 ],
 "metadata": {
  "kernelspec": {
   "display_name": "Python 3",
   "language": "python",
   "name": "python3"
  },
  "language_info": {
   "codemirror_mode": {
    "name": "ipython",
    "version": 3
   },
   "file_extension": ".py",
   "mimetype": "text/x-python",
   "name": "python",
   "nbconvert_exporter": "python",
   "pygments_lexer": "ipython3",
   "version": "3.10.1"
  }
 },
 "nbformat": 4,
 "nbformat_minor": 2
}
