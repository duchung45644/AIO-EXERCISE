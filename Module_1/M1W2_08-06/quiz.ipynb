{
 "cells": [
  {
   "cell_type": "code",
   "execution_count": 47,
   "metadata": {},
   "outputs": [
    {
     "name": "stdout",
     "output_type": "stream",
     "text": [
      "[5, 5, 5, 5, 10, 12, 33, 33]\n"
     ]
    }
   ],
   "source": [
    "# Câu 1\n",
    "def max_kernel(num_list, k):\n",
    "    margin = k//2\n",
    "    length = len(num_list)-margin\n",
    "    length = length if k % 2 == 1 else length+1\n",
    "\n",
    "    result = []\n",
    "    for i in range(margin, length):\n",
    "        left = i-margin\n",
    "        right = left + k\n",
    "        window = num_list[left: right]\n",
    "        max_value = max(window)\n",
    "\n",
    "        # print(f'{window} => max {max_value}')\n",
    "        result.append(max_value)\n",
    "\n",
    "    return result\n",
    "\n",
    "\n",
    "assert max_kernel([3, 4, 5, 1, -44], 3) == [5, 5, 5]\n",
    "num_list = [3, 4, 5, 1, -44, 5, 10, 12, 33, 1]\n",
    "k = 3\n",
    "print(max_kernel(num_list, k))"
   ]
  },
  {
   "cell_type": "code",
   "execution_count": 48,
   "metadata": {},
   "outputs": [
    {
     "name": "stdout",
     "output_type": "stream",
     "text": [
      "{'s': 2, 'm': 1, 'i': 1, 'l': 1, 'e': 1, ' ': 1}\n"
     ]
    }
   ],
   "source": [
    "# Câu 2\n",
    "def character_count(string):\n",
    "    char_dict = {}\n",
    "\n",
    "    for c in string:\n",
    "        if c in char_dict:\n",
    "            char_dict[c] += 1\n",
    "        else:\n",
    "            char_dict[c] = 1\n",
    "\n",
    "    return char_dict\n",
    "\n",
    "\n",
    "assert character_count('Baby') == {'B': 1, 'a': 1, 'b': 1, 'y': 1}\n",
    "print(character_count('smiles '))"
   ]
  },
  {
   "cell_type": "code",
   "execution_count": 58,
   "metadata": {},
   "outputs": [
    {
     "name": "stdout",
     "output_type": "stream",
     "text": [
      "6\n"
     ]
    }
   ],
   "source": [
    "# Câu 3\n",
    "# !gdown https://drive.google.com/uc?id=1IBScGdW2xlNsc9v5zSAya548kNgiOrko\n",
    "def count_word(file_path):\n",
    "    with open(file_path, 'r') as file:\n",
    "        text = file.read()\n",
    "\n",
    "    words_dict = {}\n",
    "\n",
    "    words = text.lower().split()\n",
    "\n",
    "    for word in words:\n",
    "        if word in words_dict:\n",
    "            words_dict[word] += 1\n",
    "        else:\n",
    "            words_dict[word] = 1\n",
    "\n",
    "    return words_dict\n",
    "\n",
    "file_path = 'P1_data.txt'\n",
    "result = count_word ( file_path )\n",
    "assert result ['who'] == 3\n",
    "print ( result ['man'])"
   ]
  },
  {
   "cell_type": "code",
   "execution_count": 57,
   "metadata": {},
   "outputs": [
    {
     "name": "stdout",
     "output_type": "stream",
     "text": [
      "3\n"
     ]
    }
   ],
   "source": [
    "# Câu 4\n",
    "def levenshtein_distance(token1, token2):\n",
    "    m = len(token1)\n",
    "    n = len(token2)\n",
    "\n",
    "    # Tạo ma trận với kích thước (m+1) x (n+1)\n",
    "    d = [[0] * (n + 1) for _ in range(m + 1)]\n",
    "\n",
    "    # Khởi tạo giá trị cho hàng và cột đầu tiên\n",
    "    for i in range(m + 1):\n",
    "        d[i][0] = i\n",
    "    for j in range(n + 1):\n",
    "        d[0][j] = j\n",
    "\n",
    "    # Tính toán khoảng cách Levenshtein\n",
    "    for i in range(1, m + 1):\n",
    "        for j in range(1, n + 1):\n",
    "            if token1[i - 1] == token2[j - 1]:\n",
    "                cost = 0\n",
    "            else:\n",
    "                cost = 1\n",
    "            d[i][j] = min(\n",
    "                d[i - 1][j] + 1,\n",
    "                d[i][j - 1] + 1,\n",
    "                d[i - 1][j - 1] + cost\n",
    "            )\n",
    "\n",
    "    return d[-1][-1]\n",
    "\n",
    "\n",
    "assert levenshtein_distance(\"hi\", \"hello\") == 4.0\n",
    "print(levenshtein_distance(\"hola\", \"hello\"))"
   ]
  },
  {
   "cell_type": "code",
   "execution_count": 20,
   "metadata": {},
   "outputs": [
    {
     "name": "stdout",
     "output_type": "stream",
     "text": [
      "True\n"
     ]
    }
   ],
   "source": [
    "# Câu 5\n",
    "def check_the_number(n):\n",
    "    list_of_numbers = []\n",
    "    results = \"\"\n",
    "    for i in range(1, 5):\n",
    "        # Your code here\n",
    "        list_of_numbers.append(i)\n",
    "        # Su dung append them i vao trong list_of_number\n",
    "    if n in list_of_numbers:\n",
    "        results = \"True\"\n",
    "    if n not in list_of_numbers:\n",
    "        results = \"False\"\n",
    "    return results\n",
    "\n",
    "\n",
    "N = 7\n",
    "assert check_the_number(N) == \"False\"\n",
    "\n",
    "N = 2\n",
    "results = check_the_number(N)\n",
    "print(results)"
   ]
  },
  {
   "cell_type": "code",
   "execution_count": 21,
   "metadata": {},
   "outputs": [
    {
     "name": "stdout",
     "output_type": "stream",
     "text": [
      "[2, 2, 2, 1, 1]\n"
     ]
    }
   ],
   "source": [
    "\n",
    "# Câu 6\n",
    "def quiz_6(data, max, min):\n",
    "    result = []\n",
    "    for i in data:\n",
    "        # Your code here\n",
    "        # Neu i < min thi them min vao result\n",
    "        if i < min:\n",
    "            result.append(min)\n",
    "        elif i > max:\n",
    "            result.append(max)\n",
    "        else:\n",
    "            result.append(i)\n",
    "    return result\n",
    "\n",
    "\n",
    "my_list = [5, 2, 5, 0, 1]\n",
    "max_value = 1\n",
    "min_value = 0\n",
    "assert quiz_6(max=max_value, min=min_value, data=my_list) == [1, 1, 1, 0, 1]\n",
    "\n",
    "my_list = [10, 2, 5, 0, 1]\n",
    "max_value = 2\n",
    "min_value = 1\n",
    "print(quiz_6(max=max_value, min=min_value, data=my_list))"
   ]
  },
  {
   "cell_type": "code",
   "execution_count": 22,
   "metadata": {},
   "outputs": [
    {
     "name": "stdout",
     "output_type": "stream",
     "text": [
      "[1, 2, 3, 4, 0, 0]\n"
     ]
    }
   ],
   "source": [
    "def quiz_7(x, y):\n",
    "    # Your code here\n",
    "    # Su dung extend de noi y vao x\n",
    "    x.extend(y)\n",
    "    return x\n",
    "\n",
    "\n",
    "list_num1 = [\"a\", 2, 5]\n",
    "list_num2 = [1, 1]\n",
    "list_num3 = [0, 0]\n",
    "assert quiz_7(list_num1, quiz_7(list_num2, list_num3)) == [\"a\", 2, 5, 1, 1, 0, 0,]\n",
    "\n",
    "list_num1 = [1, 2]\n",
    "list_num2 = [3, 4]\n",
    "list_num3 = [0, 0]\n",
    "print(quiz_7(list_num1, quiz_7(list_num2, list_num3)))"
   ]
  },
  {
   "cell_type": "code",
   "execution_count": 27,
   "metadata": {},
   "outputs": [
    {
     "name": "stdout",
     "output_type": "stream",
     "text": [
      "-1\n"
     ]
    }
   ],
   "source": [
    "# Câu 8:\n",
    "def quiz_8(n):\n",
    "    min_value = n[0]\n",
    "    for i in n:\n",
    "        if i < min_value:\n",
    "            min_value = i\n",
    "    return min_value\n",
    "\n",
    "\n",
    "my_list = [1, 22, 93, -100]\n",
    "assert quiz_8(my_list) == -100\n",
    "my_list = [1, 2, 3, -1]\n",
    "print(quiz_8(my_list))"
   ]
  },
  {
   "cell_type": "code",
   "execution_count": 28,
   "metadata": {},
   "outputs": [
    {
     "name": "stdout",
     "output_type": "stream",
     "text": [
      "9\n"
     ]
    }
   ],
   "source": [
    "# Câu 9:\n",
    "def quiz_9(n):\n",
    "    max_value = n[0]\n",
    "    for i in n:\n",
    "        if i > max_value:\n",
    "            max_value = i\n",
    "    return max_value\n",
    "\n",
    "\n",
    "my_list = [1001, 9, 100, 0]\n",
    "assert quiz_9(my_list) == 1001\n",
    "my_list = [1, 9, 9, 0]\n",
    "print(quiz_9(my_list))"
   ]
  },
  {
   "cell_type": "code",
   "execution_count": 37,
   "metadata": {},
   "outputs": [
    {
     "name": "stdout",
     "output_type": "stream",
     "text": [
      "True\n"
     ]
    }
   ],
   "source": [
    "# Câu 10:\n",
    "def quiz_10(integers, number=1):\n",
    "    return any(element == number for element in integers)\n",
    "\n",
    "\n",
    "my_list = [1, 3, 9, 4]\n",
    "assert quiz_10(my_list, -1) == False\n",
    "my_list = [1, 2, 3, 4]\n",
    "print(quiz_10(my_list, 2))"
   ]
  },
  {
   "cell_type": "code",
   "execution_count": 36,
   "metadata": {},
   "outputs": [
    {
     "name": "stdout",
     "output_type": "stream",
     "text": [
      "1.0\n"
     ]
    }
   ],
   "source": [
    "# Câu 11:\n",
    "def quiz_11(list_nums=[0, 1, 2]):\n",
    "    var = 0\n",
    "    for i in list_nums:\n",
    "        var += i\n",
    "    return var / len(list_nums)\n",
    "\n",
    "\n",
    "assert quiz_11([4, 6, 8]) == 6\n",
    "print(quiz_11())"
   ]
  },
  {
   "cell_type": "code",
   "execution_count": 38,
   "metadata": {},
   "outputs": [
    {
     "name": "stdout",
     "output_type": "stream",
     "text": [
      "[3, 6]\n"
     ]
    }
   ],
   "source": [
    "\n",
    "# Câu 12:\n",
    "def quiz_12(data):\n",
    "    var = []\n",
    "    for i in data:\n",
    "        # Your code here\n",
    "        if i % 3 == 0:\n",
    "            var.append(i)\n",
    "    return var\n",
    "\n",
    "\n",
    "assert quiz_12([3, 9, 4, 5]) == [3, 9]\n",
    "print(quiz_12([1, 2, 3, 5, 6]))"
   ]
  },
  {
   "cell_type": "code",
   "execution_count": 39,
   "metadata": {},
   "outputs": [
    {
     "name": "stdout",
     "output_type": "stream",
     "text": [
      "24\n"
     ]
    }
   ],
   "source": [
    "# Câu 13:\n",
    "def factorial(y):\n",
    "    var = 1\n",
    "    while y > 1:\n",
    "        var *= y\n",
    "        y -= 1\n",
    "    return var\n",
    "\n",
    "\n",
    "assert factorial(8) == 40320\n",
    "print(factorial(4))"
   ]
  },
  {
   "cell_type": "code",
   "execution_count": 40,
   "metadata": {},
   "outputs": [
    {
     "name": "stdout",
     "output_type": "stream",
     "text": [
      " tocirpa\n"
     ]
    }
   ],
   "source": [
    "# Câu 14:\n",
    "def reverse_string(string):\n",
    "    return string[::-1]\n",
    "\n",
    "\n",
    "x = \"I can do it\"\n",
    "assert reverse_string(x) == \"ti od nac I\"\n",
    "\n",
    "x = \"apricot \"\n",
    "print(reverse_string(x))"
   ]
  },
  {
   "cell_type": "code",
   "execution_count": 41,
   "metadata": {},
   "outputs": [
    {
     "name": "stdout",
     "output_type": "stream",
     "text": [
      "['T', 'T', 'T', 'N']\n"
     ]
    }
   ],
   "source": [
    "# Câu 15:\n",
    "def function_helper_15(x):\n",
    "    return \"T\" if x > 0 else \"N\"\n",
    "\n",
    "\n",
    "def quiz_15(data):\n",
    "    res = [function_helper_15(x) for x in data]\n",
    "    return res\n",
    "\n",
    "\n",
    "data = [10, 0, -10, -1]\n",
    "assert quiz_15(data) == [\"T\", \"N\", \"N\", \"N\"]\n",
    "\n",
    "data = [2, 3, 5, -1]\n",
    "print(quiz_15(data))"
   ]
  },
  {
   "cell_type": "code",
   "execution_count": 43,
   "metadata": {},
   "outputs": [
    {
     "name": "stdout",
     "output_type": "stream",
     "text": [
      "[9, 8, 1]\n"
     ]
    }
   ],
   "source": [
    "def function_helper_16(x, data):\n",
    "    for i in data:\n",
    "        # Your code here\n",
    "        # Neu x == i thi return 0\n",
    "        if x == i:\n",
    "            return 0\n",
    "    return 1\n",
    "\n",
    "\n",
    "def quiz_16(data):\n",
    "    res = []\n",
    "    for i in data:\n",
    "        if function_helper_16(i, res):\n",
    "            res.append(i)\n",
    "    return res\n",
    "\n",
    "\n",
    "lst = [10, 10, 9, 7, 7]\n",
    "assert quiz_16(lst) == [10, 9, 7]\n",
    "lst = [9, 9, 8, 1, 1]\n",
    "print(quiz_16(lst))\n"
   ]
  }
 ],
 "metadata": {
  "kernelspec": {
   "display_name": "Python 3",
   "language": "python",
   "name": "python3"
  },
  "language_info": {
   "codemirror_mode": {
    "name": "ipython",
    "version": 3
   },
   "file_extension": ".py",
   "mimetype": "text/x-python",
   "name": "python",
   "nbconvert_exporter": "python",
   "pygments_lexer": "ipython3",
   "version": "3.10.1"
  }
 },
 "nbformat": 4,
 "nbformat_minor": 2
}
